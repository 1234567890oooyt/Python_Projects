{
 "cells": [
  {
   "cell_type": "code",
   "execution_count": null,
   "metadata": {},
   "outputs": [],
   "source": [
    "from selenium import webdriver\n",
    "\n",
    "driver = webdriver.Firefox()\n",
    "driver.get(\"https://my.oregonstate.edu/webapps/login/?action=relogin\")\n",
    "\n",
    "loginid = driver.find_element_by_id('user_id')\n",
    "loginid.send_keys(\"***\")\n",
    "passwd = driver.find_element_by_id('password')\n",
    "passwd.send_keys(\"***\")\n",
    "\n",
    "driver.find_element_by_css_selector('.submit.button-1').click()"
   ]
  }
 ],
 "metadata": {
  "kernelspec": {
   "display_name": "Python 3",
   "language": "python",
   "name": "python3"
  },
  "language_info": {
   "codemirror_mode": {
    "name": "ipython",
    "version": 3
   },
   "file_extension": ".py",
   "mimetype": "text/x-python",
   "name": "python",
   "nbconvert_exporter": "python",
   "pygments_lexer": "ipython3",
   "version": "3.6.4"
  }
 },
 "nbformat": 4,
 "nbformat_minor": 2
}

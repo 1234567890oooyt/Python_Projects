{
 "cells": [
  {
   "cell_type": "code",
   "execution_count": 5,
   "metadata": {
    "collapsed": false
   },
   "outputs": [
    {
     "ename": "SyntaxError",
     "evalue": "invalid syntax (<ipython-input-5-68effd3b537d>, line 22)",
     "output_type": "error",
     "traceback": [
      "\u001b[0;36m  File \u001b[0;32m\"<ipython-input-5-68effd3b537d>\"\u001b[0;36m, line \u001b[0;32m22\u001b[0m\n\u001b[0;31m    music_data = #struct.unpack(\"<\"+str(nframes)+\"h\", music.readframes(nframes))\u001b[0m\n\u001b[0m                                                                                ^\u001b[0m\n\u001b[0;31mSyntaxError\u001b[0m\u001b[0;31m:\u001b[0m invalid syntax\n"
     ]
    }
   ],
   "source": [
    "import wave,struct\n",
    "import scipy.io.wavfile as wav\n",
    "\n",
    "#открываем файл для чтения\n",
    "music = wave.open(\"music.wav\", mode=\"rb\")\n",
    "minus = wave.open(\"minus.wav\", mode=\"rb\")\n",
    "#создаем новый файл, в который будем писать\n",
    "result = wave.open(\"result1.wav\", mode=\"wb\")\n",
    "\n",
    "#берем параметры аудиопотока исходного файла (число каналов, част. дискр, глубина и тд.)\n",
    "params = music.getparams()\n",
    "#и задаем для нового такие же\n",
    "result.setparams(params)\n",
    "\n",
    "nframes = music.getnframes()\n",
    "\n",
    "x = \n",
    "print(len(x))\n",
    "print(nframes)\n",
    "\n",
    "minus_data = wav.read(minus.readframes(nframes))#struct.unpack(\"<\"+str(nframes)+\"h\", x)\n",
    "music_data = wav.read(music.readframes(nframes))#struct.unpack(\"<\"+str(nframes)+\"h\", music.readframes(nframes))\n",
    "newdata = []\n",
    "\n",
    "for frame, frame2 in music_data, minus_data:\n",
    "    newdata.append(frame - frame2)\n",
    "\n",
    "newframes = struct.pack(\"<\"+str(nframes)+\"h\", *newdata)\n",
    "\n",
    "result.writeframes(newframes)"
   ]
  },
  {
   "cell_type": "code",
   "execution_count": 29,
   "metadata": {
    "collapsed": false
   },
   "outputs": [
    {
     "name": "stdout",
     "output_type": "stream",
     "text": [
      "0\n",
      "8270220\n"
     ]
    }
   ],
   "source": [
    "print(len(minus.readframes(nframes)))\n",
    "print(nframes)"
   ]
  }
 ],
 "metadata": {
  "anaconda-cloud": {},
  "kernelspec": {
   "display_name": "Python [conda root]",
   "language": "python",
   "name": "conda-root-py"
  },
  "language_info": {
   "codemirror_mode": {
    "name": "ipython",
    "version": 3
   },
   "file_extension": ".py",
   "mimetype": "text/x-python",
   "name": "python",
   "nbconvert_exporter": "python",
   "pygments_lexer": "ipython3",
   "version": "3.5.2"
  }
 },
 "nbformat": 4,
 "nbformat_minor": 1
}

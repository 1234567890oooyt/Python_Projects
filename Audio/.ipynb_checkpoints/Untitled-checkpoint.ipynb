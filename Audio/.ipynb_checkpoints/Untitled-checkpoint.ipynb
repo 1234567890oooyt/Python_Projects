{
 "cells": [
  {
   "cell_type": "code",
   "execution_count": null,
   "metadata": {
    "collapsed": true
   },
   "outputs": [],
   "source": [
    "#github.com/roctbb/GoTo\n",
    "\n",
    "import wave,struct\n",
    "\n",
    "#открываем файл для чтения\n",
    "source = wave.open(\"task1.wav\", mode=\"rb\")\n",
    "#создаем новый файл, в который будем писать\n",
    "result = wave.open(\"result1.wav\", mode=\"wb\")\n",
    "\n",
    "#берем параметры аудиопотока исходного файла (число каналов, част. дискр, глубина и тд.)\n",
    "params = source.getparams()\n",
    "#и задаем для нового такие же\n",
    "result.setparams(params)\n",
    "\n",
    "nframes = source.getnframes()\n",
    "\n",
    "data = struct.unpack(\"<\"+str(nframes)+\"h\", source.readframes(nframes))\n",
    "newdata = []\n",
    "\n",
    "data.reverse()\n",
    "\n",
    "for frame in data:\n",
    "    newdata.append(frame*10)\n",
    "\n",
    "newframes = struct.pack(\"<\"+str(nframes)+\"h\", *newdata)\n",
    "\n",
    "result.writeframes(newframes)"
   ]
  }
 ],
 "metadata": {
  "anaconda-cloud": {},
  "kernelspec": {
   "display_name": "Python [default]",
   "language": "python",
   "name": "python3"
  },
  "language_info": {
   "codemirror_mode": {
    "name": "ipython",
    "version": 3
   },
   "file_extension": ".py",
   "mimetype": "text/x-python",
   "name": "python",
   "nbconvert_exporter": "python",
   "pygments_lexer": "ipython3",
   "version": "3.5.2"
  }
 },
 "nbformat": 4,
 "nbformat_minor": 1
}

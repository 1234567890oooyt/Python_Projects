{
 "cells": [
  {
   "cell_type": "code",
   "execution_count": 19,
   "metadata": {
    "collapsed": false
   },
   "outputs": [
    {
     "name": "stdout",
     "output_type": "stream",
     "text": [
      "9287424\n",
      "4643712\n"
     ]
    }
   ],
   "source": [
    "#github.com/roctbb/GoTo\n",
    "\n",
    "import wave,struct\n",
    "\n",
    "#открываем файл для чтения\n",
    "source = wave.open(\"task1.wav\", mode=\"rb\")\n",
    "#создаем новый файл, в который будем писать\n",
    "result = wave.open(\"result1.wav\", mode=\"wb\")\n",
    "\n",
    "#берем параметры аудиопотока исходного файла (число каналов, част. дискр, глубина и тд.)\n",
    "params = source.getparams()\n",
    "#и задаем для нового такие же\n",
    "result.setparams(params)\n",
    "\n",
    "nframes = source.getnframes()\n",
    "\n",
    "x = source.readframes(nframes)\n",
    "print(len(x))\n",
    "print(nframes)\n",
    "data = struct.unpack(\"<\"+str(nframes)+\"h\", x)\n",
    "\n",
    "\n",
    "newdata = []\n",
    "\n",
    "data = reversed(data)\n",
    "\n",
    "for frame in data:\n",
    "    newdata.append(frame*100)\n",
    "\n",
    "newframes = struct.pack(\"<\"+str(nframes)+\"h\", *newdata)\n",
    "\n",
    "result.writeframes(newframes)"
   ]
  },
  {
   "cell_type": "code",
   "execution_count": 9,
   "metadata": {
    "collapsed": false
   },
   "outputs": [
    {
     "data": {
      "text/plain": [
       "'4643712'"
      ]
     },
     "execution_count": 9,
     "metadata": {},
     "output_type": "execute_result"
    }
   ],
   "source": [
    "str(nframes)"
   ]
  },
  {
   "cell_type": "code",
   "execution_count": 15,
   "metadata": {
    "collapsed": false
   },
   "outputs": [
    {
     "data": {
      "text/plain": [
       "b''"
      ]
     },
     "execution_count": 15,
     "metadata": {},
     "output_type": "execute_result"
    }
   ],
   "source": []
  }
 ],
 "metadata": {
  "anaconda-cloud": {},
  "kernelspec": {
   "display_name": "Python [default]",
   "language": "python",
   "name": "python3"
  },
  "language_info": {
   "codemirror_mode": {
    "name": "ipython",
    "version": 3
   },
   "file_extension": ".py",
   "mimetype": "text/x-python",
   "name": "python",
   "nbconvert_exporter": "python",
   "pygments_lexer": "ipython3",
   "version": "3.5.2"
  }
 },
 "nbformat": 4,
 "nbformat_minor": 1
}

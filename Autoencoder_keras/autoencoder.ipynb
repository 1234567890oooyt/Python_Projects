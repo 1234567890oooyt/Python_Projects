{
 "cells": [
  {
   "cell_type": "code",
   "execution_count": 36,
   "metadata": {},
   "outputs": [],
   "source": [
    "from keras.layers import Input, Dense\n",
    "from keras.models import Model\n",
    "import tensorflow as tf\n",
    "\n",
    "#tf.device('/cpu:0')\n",
    "\n",
    "# this is the size of our encoded representations\n",
    "encoding_dim = 32  # 32 floats -> compression of factor 24.5, assuming the input is 784 floats\n",
    "\n",
    "# this is our input placeholder\n",
    "input_img = Input(shape=(784,))\n",
    "# \"encoded\" is the encoded representation of the input\n",
    "encoded = Dense(encoding_dim, activation='relu')(input_img)\n",
    "# \"decoded\" is the lossy reconstruction of the input\n",
    "decoded = Dense(784, activation='sigmoid')(encoded)\n",
    "\n",
    "# this model maps an input to its reconstruction\n",
    "autoencoder = Model(input_img, decoded)\n"
   ]
  },
  {
   "cell_type": "code",
   "execution_count": 37,
   "metadata": {},
   "outputs": [],
   "source": [
    "# this model maps an input to its encoded representation\n",
    "encoder = Model(input_img, encoded)"
   ]
  },
  {
   "cell_type": "code",
   "execution_count": 38,
   "metadata": {
    "collapsed": true
   },
   "outputs": [],
   "source": [
    "# create a placeholder for an encoded (32-dimensional) input\n",
    "encoded_input = Input(shape=(encoding_dim,))\n",
    "# retrieve the last layer of the autoencoder model\n",
    "decoder_layer = autoencoder.layers[-1]\n",
    "# create the decoder model\n",
    "decoder = Model(encoded_input, decoder_layer(encoded_input))"
   ]
  },
  {
   "cell_type": "code",
   "execution_count": 39,
   "metadata": {
    "collapsed": true
   },
   "outputs": [],
   "source": [
    "autoencoder.compile(optimizer='adadelta', loss='binary_crossentropy')"
   ]
  },
  {
   "cell_type": "code",
   "execution_count": 40,
   "metadata": {},
   "outputs": [],
   "source": [
    "from keras.datasets import mnist\n",
    "import numpy as np\n",
    "(x_train, _), (x_test, _) = mnist.load_data()"
   ]
  },
  {
   "cell_type": "code",
   "execution_count": 41,
   "metadata": {},
   "outputs": [
    {
     "name": "stdout",
     "output_type": "stream",
     "text": [
      "(60000, 784)\n",
      "(10000, 784)\n"
     ]
    }
   ],
   "source": [
    "x_train = x_train.astype('float32') / 255.\n",
    "x_test = x_test.astype('float32') / 255.\n",
    "x_train = x_train.reshape((len(x_train), np.prod(x_train.shape[1:])))\n",
    "x_test = x_test.reshape((len(x_test), np.prod(x_test.shape[1:])))\n",
    "print (x_train.shape)\n",
    "print (x_test.shape)"
   ]
  },
  {
   "cell_type": "code",
   "execution_count": 42,
   "metadata": {},
   "outputs": [
    {
     "name": "stdout",
     "output_type": "stream",
     "text": [
      "Train on 60000 samples, validate on 10000 samples\n",
      "Epoch 1/50\n",
      "60000/60000 [==============================] - 1s - loss: 0.3711 - val_loss: 0.2726\n",
      "Epoch 2/50\n",
      "60000/60000 [==============================] - 1s - loss: 0.2654 - val_loss: 0.2548\n",
      "Epoch 3/50\n",
      "60000/60000 [==============================] - 1s - loss: 0.2450 - val_loss: 0.2329\n",
      "Epoch 4/50\n",
      "60000/60000 [==============================] - 1s - loss: 0.2255 - val_loss: 0.2155\n",
      "Epoch 5/50\n",
      "60000/60000 [==============================] - 1s - loss: 0.2102 - val_loss: 0.2022\n",
      "Epoch 6/50\n",
      "60000/60000 [==============================] - 1s - loss: 0.1986 - val_loss: 0.1920\n",
      "Epoch 7/50\n",
      "60000/60000 [==============================] - 1s - loss: 0.1894 - val_loss: 0.1839\n",
      "Epoch 8/50\n",
      "60000/60000 [==============================] - 1s - loss: 0.1821 - val_loss: 0.1775\n",
      "Epoch 9/50\n",
      "60000/60000 [==============================] - 1s - loss: 0.1761 - val_loss: 0.1720\n",
      "Epoch 10/50\n",
      "60000/60000 [==============================] - 1s - loss: 0.1710 - val_loss: 0.1671\n",
      "Epoch 11/50\n",
      "60000/60000 [==============================] - 1s - loss: 0.1664 - val_loss: 0.1629\n",
      "Epoch 12/50\n",
      "60000/60000 [==============================] - 1s - loss: 0.1621 - val_loss: 0.1586\n",
      "Epoch 13/50\n",
      "60000/60000 [==============================] - 1s - loss: 0.1581 - val_loss: 0.1548\n",
      "Epoch 14/50\n",
      "60000/60000 [==============================] - 1s - loss: 0.1545 - val_loss: 0.1514\n",
      "Epoch 15/50\n",
      "60000/60000 [==============================] - 1s - loss: 0.1511 - val_loss: 0.1479\n",
      "Epoch 16/50\n",
      "60000/60000 [==============================] - 1s - loss: 0.1479 - val_loss: 0.1449\n",
      "Epoch 17/50\n",
      "60000/60000 [==============================] - 1s - loss: 0.1451 - val_loss: 0.1421\n",
      "Epoch 18/50\n",
      "60000/60000 [==============================] - 1s - loss: 0.1424 - val_loss: 0.1395\n",
      "Epoch 19/50\n",
      "60000/60000 [==============================] - 1s - loss: 0.1399 - val_loss: 0.1371\n",
      "Epoch 20/50\n",
      "60000/60000 [==============================] - 1s - loss: 0.1376 - val_loss: 0.1348\n",
      "Epoch 21/50\n",
      "60000/60000 [==============================] - 1s - loss: 0.1354 - val_loss: 0.1327\n",
      "Epoch 22/50\n",
      "60000/60000 [==============================] - 1s - loss: 0.1333 - val_loss: 0.1307\n",
      "Epoch 23/50\n",
      "60000/60000 [==============================] - 1s - loss: 0.1313 - val_loss: 0.1287\n",
      "Epoch 24/50\n",
      "60000/60000 [==============================] - 1s - loss: 0.1294 - val_loss: 0.1268\n",
      "Epoch 25/50\n",
      "60000/60000 [==============================] - 1s - loss: 0.1276 - val_loss: 0.1250\n",
      "Epoch 26/50\n",
      "60000/60000 [==============================] - 1s - loss: 0.1258 - val_loss: 0.1232\n",
      "Epoch 27/50\n",
      "60000/60000 [==============================] - 1s - loss: 0.1240 - val_loss: 0.1215\n",
      "Epoch 28/50\n",
      "60000/60000 [==============================] - 1s - loss: 0.1224 - val_loss: 0.1199\n",
      "Epoch 29/50\n",
      "60000/60000 [==============================] - 1s - loss: 0.1207 - val_loss: 0.1183\n",
      "Epoch 30/50\n",
      "60000/60000 [==============================] - 1s - loss: 0.1192 - val_loss: 0.1168\n",
      "Epoch 31/50\n",
      "60000/60000 [==============================] - 1s - loss: 0.1178 - val_loss: 0.1154\n",
      "Epoch 32/50\n",
      "60000/60000 [==============================] - 1s - loss: 0.1164 - val_loss: 0.1141\n",
      "Epoch 33/50\n",
      "60000/60000 [==============================] - 1s - loss: 0.1151 - val_loss: 0.1129\n",
      "Epoch 34/50\n",
      "60000/60000 [==============================] - 1s - loss: 0.1140 - val_loss: 0.1117\n",
      "Epoch 35/50\n",
      "60000/60000 [==============================] - 1s - loss: 0.1129 - val_loss: 0.1107\n",
      "Epoch 36/50\n",
      "60000/60000 [==============================] - 1s - loss: 0.1118 - val_loss: 0.1097\n",
      "Epoch 37/50\n",
      "60000/60000 [==============================] - 1s - loss: 0.1109 - val_loss: 0.1088\n",
      "Epoch 38/50\n",
      "60000/60000 [==============================] - 1s - loss: 0.1100 - val_loss: 0.1080\n",
      "Epoch 39/50\n",
      "60000/60000 [==============================] - 1s - loss: 0.1092 - val_loss: 0.1072\n",
      "Epoch 40/50\n",
      "60000/60000 [==============================] - 1s - loss: 0.1085 - val_loss: 0.1065\n",
      "Epoch 41/50\n",
      "60000/60000 [==============================] - 1s - loss: 0.1078 - val_loss: 0.1058\n",
      "Epoch 42/50\n",
      "60000/60000 [==============================] - 1s - loss: 0.1072 - val_loss: 0.1052\n",
      "Epoch 43/50\n",
      "60000/60000 [==============================] - 1s - loss: 0.1066 - val_loss: 0.1046\n",
      "Epoch 44/50\n",
      "60000/60000 [==============================] - 1s - loss: 0.1060 - val_loss: 0.1041\n",
      "Epoch 45/50\n",
      "60000/60000 [==============================] - 1s - loss: 0.1055 - val_loss: 0.1036\n",
      "Epoch 46/50\n",
      "60000/60000 [==============================] - 1s - loss: 0.1051 - val_loss: 0.1032\n",
      "Epoch 47/50\n",
      "60000/60000 [==============================] - 1s - loss: 0.1046 - val_loss: 0.1028\n",
      "Epoch 48/50\n",
      "60000/60000 [==============================] - 1s - loss: 0.1042 - val_loss: 0.1024\n",
      "Epoch 49/50\n",
      "60000/60000 [==============================] - 1s - loss: 0.1039 - val_loss: 0.1020\n",
      "Epoch 50/50\n",
      "60000/60000 [==============================] - 1s - loss: 0.1035 - val_loss: 0.1017\n"
     ]
    },
    {
     "data": {
      "text/plain": [
       "<keras.callbacks.History at 0x23a9836f5c0>"
      ]
     },
     "execution_count": 42,
     "metadata": {},
     "output_type": "execute_result"
    }
   ],
   "source": [
    "autoencoder.fit(x_train, x_train,\n",
    "                epochs=50,\n",
    "                batch_size=256,\n",
    "                shuffle=True,\n",
    "                validation_data=(x_test, x_test))"
   ]
  },
  {
   "cell_type": "code",
   "execution_count": 43,
   "metadata": {},
   "outputs": [],
   "source": [
    "# encode and decode some digits\n",
    "# note that we take them from the *test* set\n",
    "\n",
    "encoded_imgs = encoder.predict(x_test)\n",
    "decoded_imgs = decoder.predict(encoded_imgs)"
   ]
  },
  {
   "cell_type": "code",
   "execution_count": 48,
   "metadata": {},
   "outputs": [
    {
     "data": {
      "image/png": "[encoded data removed]",
      "text/plain": [
       "<matplotlib.figure.Figure at 0x23a99f28390>"
      ]
     },
     "metadata": {},
     "output_type": "display_data"
    }
   ],
   "source": [
    "# use Matplotlib (don't ask)\n",
    "import matplotlib.pyplot as plt\n",
    "import random\n",
    "bias = random.randint(0,10000)\n",
    "n = 10  # how many digits we will display\n",
    "plt.figure(figsize=(20, 4))\n",
    "for i in range(n):\n",
    "    # display original\n",
    "    ax = plt.subplot(2, n, i + 1)\n",
    "    plt.imshow(x_test[i+bias].reshape(28, 28))\n",
    "    plt.gray()\n",
    "    ax.get_xaxis().set_visible(False)\n",
    "    ax.get_yaxis().set_visible(False)\n",
    "\n",
    "    # display reconstruction\n",
    "    ax = plt.subplot(2, n, i + 1 + n)\n",
    "    plt.imshow(decoded_imgs[i+bias].reshape(28, 28))\n",
    "    plt.gray()\n",
    "    ax.get_xaxis().set_visible(False)\n",
    "    ax.get_yaxis().set_visible(False)\n",
    "plt.show()"
   ]
  }
 ],
 "metadata": {
  "kernelspec": {
   "display_name": "Python 3",
   "language": "python",
   "name": "python3"
  },
  "language_info": {
   "codemirror_mode": {
    "name": "ipython",
    "version": 3
   },
   "file_extension": ".py",
   "mimetype": "text/x-python",
   "name": "python",
   "nbconvert_exporter": "python",
   "pygments_lexer": "ipython3",
   "version": "3.5.3"
  }
 },
 "nbformat": 4,
 "nbformat_minor": 2
}

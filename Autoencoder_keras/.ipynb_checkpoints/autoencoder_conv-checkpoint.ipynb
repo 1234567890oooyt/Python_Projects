{
 "cells": [
  {
   "cell_type": "code",
   "execution_count": 1,
   "metadata": {},
   "outputs": [
    {
     "name": "stderr",
     "output_type": "stream",
     "text": [
      "Using TensorFlow backend.\n"
     ]
    },
    {
     "name": "stdout",
     "output_type": "stream",
     "text": [
      "(?, 28, 28, 1)\n",
      "(?, 28, 28, 16)\n",
      "(?, 14, 14, 16)\n",
      "(?, 14, 14, 8)\n",
      "(?, 7, 7, 8)\n",
      "(?, 7, 7, 8)\n",
      "(?, 4, 4, 8)\n",
      "middle\n",
      "(?, 4, 4, 8)\n",
      "(?, 8, 8, 8)\n",
      "(?, 8, 8, 8)\n",
      "(?, 16, 16, 8)\n",
      "(?, 14, 14, 16)\n",
      "(?, 28, 28, 16)\n",
      "(?, 28, 28, 1)\n"
     ]
    }
   ],
   "source": [
    "from keras.layers import Input, Dense, Conv2D, MaxPooling2D, UpSampling2D\n",
    "from keras.models import Model\n",
    "from keras import backend as K\n",
    "\n",
    "input_img = Input(shape=(28, 28, 1))                                       ; print(input_img.shape) \n",
    "x = Conv2D(16, (3, 3), activation='relu', padding='same')(input_img)       ; print(x.shape)\n",
    "x = MaxPooling2D((2, 2), padding='same')(x)                                ; print(x.shape)\n",
    "x = Conv2D(8, (3, 3), activation='relu', padding='same')(x)                ; print(x.shape)\n",
    "x = MaxPooling2D((2, 2), padding='same')(x)                                ; print(x.shape)\n",
    "x = Conv2D(8, (3, 3), activation='relu', padding='same')(x)                ; print(x.shape)\n",
    "encoded = MaxPooling2D((2, 2), padding='same')(x)                          ; print(encoded.shape)\n",
    "\n",
    "print(\"middle\")# at this point the representation is (4, 4, 8) i.e. 128-dimensional\n",
    "\n",
    "x = Conv2D(8, (3, 3), activation='relu', padding='same')(encoded)          ; print(x.shape)\n",
    "x = UpSampling2D((2, 2))(x)                                                ; print(x.shape)\n",
    "x = Conv2D(8, (3, 3), activation='relu', padding='same')(x)                ; print(x.shape)\n",
    "x = UpSampling2D((2, 2))(x)                                                ; print(x.shape)\n",
    "x = Conv2D(16, (3, 3), activation='relu')(x)                               ; print(x.shape)\n",
    "x = UpSampling2D((2, 2))(x)                                                ; print(x.shape)\n",
    "decoded = Conv2D(1, (3, 3), activation='sigmoid', padding='same')(x)       ; print(decoded.shape)\n",
    "\n",
    "autoencoder = Model(input_img, decoded)\n",
    "\n",
    "from keras import optimizers\n",
    "opt = optimizers.Adadelta(lr=0.001)\n",
    "autoencoder.compile(optimizer=opt, loss='mean_squared_error')"
   ]
  },
  {
   "cell_type": "code",
   "execution_count": null,
   "metadata": {
    "collapsed": true
   },
   "outputs": [],
   "source": [
    "from keras.datasets import mnist\n",
    "import numpy as np\n",
    "\n",
    "(x_train, _), (x_test, _) = mnist.load_data()\n",
    "\n",
    "x_train = x_train.astype('float32') / 255.\n",
    "x_test = x_test.astype('float32') / 255.\n",
    "x_train = np.reshape(x_train, (len(x_train), 28, 28, 1))  # adapt this if using `channels_first` image data format\n",
    "x_test = np.reshape(x_test, (len(x_test), 28, 28, 1))  # adapt this if using `channels_first` image data format"
   ]
  },
  {
   "cell_type": "code",
   "execution_count": null,
   "metadata": {},
   "outputs": [
    {
     "name": "stdout",
     "output_type": "stream",
     "text": [
      "Train on 60000 samples, validate on 10000 samples\n",
      "Epoch 1/50\n",
      "60000/60000 [==============================] - 10s - loss: 0.0647 - val_loss: 0.0436\n",
      "Epoch 2/50\n",
      "28544/60000 [=============>................] - ETA: 4s - loss: 0.0406"
     ]
    }
   ],
   "source": [
    "from keras.callbacks import TensorBoard\n",
    "\n",
    "autoencoder.fit(x_train, x_train,\n",
    "                epochs=50,\n",
    "                batch_size=128,\n",
    "                shuffle=True,\n",
    "                validation_data=(x_test, x_test),\n",
    "                callbacks=[TensorBoard(log_dir='D:\\\\Python\\\\Autoencoder_keras\\\\log')])"
   ]
  },
  {
   "cell_type": "code",
   "execution_count": null,
   "metadata": {},
   "outputs": [],
   "source": [
    "import matplotlib.pyplot as plt\n",
    "\n",
    "decoded_imgs = autoencoder.predict(x_test)\n",
    "\n",
    "n = 10\n",
    "plt.figure(figsize=(20, 4))\n",
    "for i in range(n):\n",
    "    # display original\n",
    "    ax = plt.subplot(2, n, 1+i)\n",
    "    plt.imshow(x_test[i].reshape(28, 28))\n",
    "    plt.gray()\n",
    "    ax.get_xaxis().set_visible(False)\n",
    "    ax.get_yaxis().set_visible(False)\n",
    "\n",
    "    # display reconstruction\n",
    "    ax = plt.subplot(2, n, i + n+1)\n",
    "    plt.imshow(decoded_imgs[i].reshape(28, 28))\n",
    "    plt.gray()\n",
    "    ax.get_xaxis().set_visible(False)\n",
    "    ax.get_yaxis().set_visible(False)\n",
    "plt.show()"
   ]
  },
  {
   "cell_type": "code",
   "execution_count": null,
   "metadata": {
    "collapsed": true
   },
   "outputs": [],
   "source": []
  },
  {
   "cell_type": "code",
   "execution_count": null,
   "metadata": {
    "collapsed": true
   },
   "outputs": [],
   "source": []
  },
  {
   "cell_type": "code",
   "execution_count": null,
   "metadata": {
    "collapsed": true
   },
   "outputs": [],
   "source": []
  }
 ],
 "metadata": {
  "kernelspec": {
   "display_name": "Python 3",
   "language": "python",
   "name": "python3"
  },
  "language_info": {
   "codemirror_mode": {
    "name": "ipython",
    "version": 3
   },
   "file_extension": ".py",
   "mimetype": "text/x-python",
   "name": "python",
   "nbconvert_exporter": "python",
   "pygments_lexer": "ipython3",
   "version": "3.5.3"
  }
 },
 "nbformat": 4,
 "nbformat_minor": 2
}

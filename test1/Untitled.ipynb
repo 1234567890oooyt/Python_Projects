{
 "cells": [
  {
   "cell_type": "code",
   "execution_count": 14,
   "metadata": {},
   "outputs": [],
   "source": [
    "import random\n",
    "\n",
    "def check():\n",
    "    max = 0\n",
    "    maxes = 0\n",
    "    for i in range(1000):\n",
    "        ch = random.randint(0,100000)\n",
    "        if ch > max:\n",
    "            max = ch\n",
    "            maxes += 1\n",
    "    return maxes\n"
   ]
  },
  {
   "cell_type": "code",
   "execution_count": 18,
   "metadata": {},
   "outputs": [
    {
     "name": "stdout",
     "output_type": "stream",
     "text": [
      "7.447\n"
     ]
    }
   ],
   "source": [
    "import numpy as np\n",
    "print(np.mean([check() for i in range(1000)]))"
   ]
  },
  {
   "cell_type": "code",
   "execution_count": 41,
   "metadata": {},
   "outputs": [
    {
     "ename": "Exception",
     "evalue": "Feed dict asks for variable named 'input' but no such variable is known to exist",
     "output_type": "error",
     "traceback": [
      "\u001b[1;31m---------------------------------------------------------------------------\u001b[0m",
      "\u001b[1;31mException\u001b[0m                                 Traceback (most recent call last)",
      "\u001b[1;32m<ipython-input-41-c207f7ddd9eb>\u001b[0m in \u001b[0;36m<module>\u001b[1;34m()\u001b[0m\n\u001b[0;32m     44\u001b[0m \u001b[1;33m\u001b[0m\u001b[0m\n\u001b[0;32m     45\u001b[0m model.fit({'input': x_train}, {'targets': x_train}, n_epoch=50, validation_set=({'input': x_test}, {'targets': x_test}),\n\u001b[1;32m---> 46\u001b[1;33m           snapshot_step=500, show_metric=True, run_id=\"autoencoder\", shuffle=True, )\n\u001b[0m",
      "\u001b[1;32mC:\\ProgramData\\Anaconda3\\lib\\site-packages\\tflearn\\models\\dnn.py\u001b[0m in \u001b[0;36mfit\u001b[1;34m(self, X_inputs, Y_targets, n_epoch, validation_set, show_metric, batch_size, shuffle, snapshot_epoch, snapshot_step, excl_trainops, validation_batch_size, run_id, callbacks)\u001b[0m\n\u001b[0;32m    182\u001b[0m         \u001b[1;31m# TODO: check memory impact for large data and multiple optimizers\u001b[0m\u001b[1;33m\u001b[0m\u001b[1;33m\u001b[0m\u001b[0m\n\u001b[0;32m    183\u001b[0m         feed_dict = feed_dict_builder(X_inputs, Y_targets, self.inputs,\n\u001b[1;32m--> 184\u001b[1;33m                                       self.targets)\n\u001b[0m\u001b[0;32m    185\u001b[0m         \u001b[0mfeed_dicts\u001b[0m \u001b[1;33m=\u001b[0m \u001b[1;33m[\u001b[0m\u001b[0mfeed_dict\u001b[0m \u001b[1;32mfor\u001b[0m \u001b[0mi\u001b[0m \u001b[1;32min\u001b[0m \u001b[0mself\u001b[0m\u001b[1;33m.\u001b[0m\u001b[0mtrain_ops\u001b[0m\u001b[1;33m]\u001b[0m\u001b[1;33m\u001b[0m\u001b[0m\n\u001b[0;32m    186\u001b[0m         \u001b[0mval_feed_dicts\u001b[0m \u001b[1;33m=\u001b[0m \u001b[1;32mNone\u001b[0m\u001b[1;33m\u001b[0m\u001b[0m\n",
      "\u001b[1;32mC:\\ProgramData\\Anaconda3\\lib\\site-packages\\tflearn\\utils.py\u001b[0m in \u001b[0;36mfeed_dict_builder\u001b[1;34m(X, Y, net_inputs, net_targets)\u001b[0m\n\u001b[0;32m    292\u001b[0m                     \u001b[1;32mif\u001b[0m \u001b[0mvar\u001b[0m \u001b[1;32mis\u001b[0m \u001b[1;32mNone\u001b[0m\u001b[1;33m:\u001b[0m\u001b[1;33m\u001b[0m\u001b[0m\n\u001b[0;32m    293\u001b[0m                         raise Exception(\"Feed dict asks for variable named '%s' but no \"\n\u001b[1;32m--> 294\u001b[1;33m                                         \"such variable is known to exist\" % key)\n\u001b[0m\u001b[0;32m    295\u001b[0m                     \u001b[0mfeed_dict\u001b[0m\u001b[1;33m[\u001b[0m\u001b[0mvar\u001b[0m\u001b[1;33m]\u001b[0m \u001b[1;33m=\u001b[0m \u001b[0mval\u001b[0m\u001b[1;33m\u001b[0m\u001b[0m\n\u001b[0;32m    296\u001b[0m \u001b[1;33m\u001b[0m\u001b[0m\n",
      "\u001b[1;31mException\u001b[0m: Feed dict asks for variable named 'input' but no such variable is known to exist"
     ]
    }
   ],
   "source": [
    "import tflearn\n",
    "import numpy as np\n",
    "from tflearn.layers.conv import conv_2d, max_pool_2d, upsample_2d\n",
    "from tflearn.layers.core import input_data, dropout, fully_connected\n",
    "from tflearn.layers.estimator import regression\n",
    "from tflearn.layers.normalization import local_response_normalization\n",
    "from tflearn.layers.recurrent import gru\n",
    "\n",
    "x = input_data(shape=[None, 28, 28, 1], name='input')  # adapt this if using `channels_first` image data format\n",
    "\n",
    "x = conv_2d(x, 16, (3, 3), activation='relu')\n",
    "x = max_pool_2d(x, (2, 2), padding='same')\n",
    "x = conv_2d(x, 8, (3, 3), activation='relu')\n",
    "x = max_pool_2d(x, (2, 2), padding='same')\n",
    "x = conv_2d(x, 8, (3, 3), activation='relu')\n",
    "encoded = max_pool_2d(x, (2, 2))\n",
    "\n",
    "# at this point the representation is (4, 4, 8) i.e. 128-dimensional\n",
    "\n",
    "x = conv_2d(encoded, 8, (3, 3), activation='relu')\n",
    "x = upsample_2d (x, (2, 2))\n",
    "x = conv_2d(x, 8, (3, 3), activation='relu')\n",
    "x = upsample_2d (x, (2, 2))\n",
    "x = conv_2d(x, 16, (3, 3), activation='relu')\n",
    "x = upsample_2d(x, (2, 2))\n",
    "decoded = conv_2d(x, 1, (3, 3), activation='sigmoid')\n",
    "\n",
    "autoencoder = regression(decoded, optimizer='momentum',loss='categorical_crossentropy',\n",
    "                         learning_rate=0.001, name='targets')\n",
    "model = tflearn.DNN(autoencoder, checkpoint_path='autoencoder',\n",
    "                        max_checkpoints=1, tensorboard_verbose=0, tensorboard_dir='log')\n",
    "\n",
    "from keras.datasets import mnist\n",
    "import numpy as np\n",
    "\n",
    "(x_train, _), (x_test, _) = mnist.load_data()\n",
    "\n",
    "x_train = x_train.astype('float32') / 255.\n",
    "x_test = x_test.astype('float32') / 255.\n",
    "x_train = np.reshape(x_train, (len(x_train), 28, 28, 1))  # adapt this if using `channels_first` image data format\n",
    "x_test = np.reshape(x_test, (len(x_test), 28, 28, 1))  # adapt this if using `channels_first` image data format\n",
    "\n",
    "#model.predict(x_train[0].reshape(-1, 28, 28,1))\n",
    "\n",
    "model.fit({'input': x_train}, {'targets': x_train}, n_epoch=50, validation_set=({'input': x_test}, {'targets': x_test}),\n",
    "          snapshot_step=500, show_metric=True, run_id=\"autoencoder\", shuffle=True, )\n"
   ]
  },
  {
   "cell_type": "code",
   "execution_count": null,
   "metadata": {},
   "outputs": [],
   "source": []
  },
  {
   "cell_type": "code",
   "execution_count": null,
   "metadata": {
    "collapsed": true
   },
   "outputs": [],
   "source": []
  }
 ],
 "metadata": {
  "kernelspec": {
   "display_name": "Python 3",
   "language": "python",
   "name": "python3"
  },
  "language_info": {
   "codemirror_mode": {
    "name": "ipython",
    "version": 3
   },
   "file_extension": ".py",
   "mimetype": "text/x-python",
   "name": "python",
   "nbconvert_exporter": "python",
   "pygments_lexer": "ipython3",
   "version": "3.5.3"
  }
 },
 "nbformat": 4,
 "nbformat_minor": 2
}

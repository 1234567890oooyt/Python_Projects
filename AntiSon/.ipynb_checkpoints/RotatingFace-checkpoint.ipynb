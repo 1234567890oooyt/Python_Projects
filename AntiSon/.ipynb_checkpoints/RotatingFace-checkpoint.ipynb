{
 "cells": [
  {
   "cell_type": "code",
   "execution_count": 2,
   "metadata": {},
   "outputs": [],
   "source": [
    "import serial\n",
    "from time import sleep\n",
    "s = serial.Serial(\"COM7\",115200,timeout = 2)\n"
   ]
  },
  {
   "cell_type": "code",
   "execution_count": 3,
   "metadata": {},
   "outputs": [
    {
     "name": "stdout",
     "output_type": "stream",
     "text": [
      "'\n"
     ]
    }
   ],
   "source": [
    "s.write(bytes(\"s\",'utf-8'))\n",
    "sleep(0.01)\n",
    "print(str(s.readline())[2:16])"
   ]
  },
  {
   "cell_type": "code",
   "execution_count": 4,
   "metadata": {},
   "outputs": [
    {
     "ename": "AttributeError",
     "evalue": "'Mouse' object has no attribute 'camera'",
     "output_type": "error",
     "traceback": [
      "\u001b[1;31m---------------------------------------------------------------------------\u001b[0m",
      "\u001b[1;31mAttributeError\u001b[0m                            Traceback (most recent call last)",
      "\u001b[1;32m<ipython-input-4-10fc5df23662>\u001b[0m in \u001b[0;36m<module>\u001b[1;34m()\u001b[0m\n\u001b[0;32m     39\u001b[0m     \u001b[0mface\u001b[0m\u001b[1;33m.\u001b[0m\u001b[0mrotate\u001b[0m\u001b[1;33m(\u001b[0m\u001b[0mc3\u001b[0m\u001b[1;33m,\u001b[0m \u001b[0maxis\u001b[0m\u001b[1;33m=\u001b[0m\u001b[0mvector\u001b[0m\u001b[1;33m(\u001b[0m\u001b[1;36m0\u001b[0m\u001b[1;33m,\u001b[0m\u001b[1;36m0\u001b[0m\u001b[1;33m,\u001b[0m\u001b[1;36m1\u001b[0m\u001b[1;33m)\u001b[0m\u001b[1;33m)\u001b[0m\u001b[1;33m\u001b[0m\u001b[0m\n\u001b[0;32m     40\u001b[0m     \u001b[0mc\u001b[0m \u001b[1;33m=\u001b[0m \u001b[1;33m[\u001b[0m\u001b[0mc1\u001b[0m\u001b[1;33m,\u001b[0m \u001b[0mc2\u001b[0m\u001b[1;33m,\u001b[0m \u001b[0mc3\u001b[0m\u001b[1;33m]\u001b[0m\u001b[1;33m\u001b[0m\u001b[0m\n\u001b[1;32m---> 41\u001b[1;33m     \u001b[0mprint\u001b[0m\u001b[1;33m(\u001b[0m\u001b[0mscene\u001b[0m\u001b[1;33m.\u001b[0m\u001b[0mmouse\u001b[0m\u001b[1;33m.\u001b[0m\u001b[0mcamera\u001b[0m\u001b[1;33m.\u001b[0m\u001b[0mpos\u001b[0m\u001b[1;33m)\u001b[0m\u001b[1;33m\u001b[0m\u001b[0m\n\u001b[0m\u001b[0;32m     42\u001b[0m     \u001b[1;31m#face.axis = vector(c1+c[0], c2+c[1], c3+c[2])\u001b[0m\u001b[1;33m\u001b[0m\u001b[1;33m\u001b[0m\u001b[0m\n\u001b[0;32m     43\u001b[0m     \u001b[0mscene\u001b[0m\u001b[1;33m.\u001b[0m\u001b[0mcaption\u001b[0m \u001b[1;33m=\u001b[0m \u001b[0mstr\u001b[0m\u001b[1;33m(\u001b[0m\u001b[0mface\u001b[0m\u001b[1;33m.\u001b[0m\u001b[0mpos\u001b[0m\u001b[1;33m)\u001b[0m\u001b[1;31m# str(c1) + ' ' + str(c2) + ' ' + str(c3)\u001b[0m\u001b[1;33m\u001b[0m\u001b[0m\n",
      "\u001b[1;31mAttributeError\u001b[0m: 'Mouse' object has no attribute 'camera'"
     ]
    }
   ],
   "source": [
    "from vpython import *\n",
    "from visual import *\n",
    "from time import clock\n",
    "scene1 = canvas()\n",
    "\n",
    "head = sphere(color=vector(255,0,0),\n",
    "        pos=vector(0,0,0),\n",
    "        size=vector(2,2,2))\n",
    "\n",
    "eye1 = sphere(color=vector(255,255,0),\n",
    "        pos=vector(0.3,0.3,0.7),\n",
    "        size=vector(0.5,0.5,0.5))\n",
    "\n",
    "eye2 = sphere(color=vector(255,255,0),\n",
    "        pos=vector(-0.3,0.3,0.7),\n",
    "        size=vector(0.5,0.5,0.5))\n",
    "\n",
    "nose = cone(color=vector(255,255,0),\n",
    "        pos=vector(0,0,0.8),\n",
    "        size=vector(0.5,0.5,0.5),\n",
    "        axis=vector(0,0,1))\n",
    "\n",
    "face = compound([head, eye2, eye1, head, nose])\n",
    "face.pos = vector(0,0,0)\n",
    "s.write(bytes(\"s\",'utf-8'))\n",
    "string = str(s.readline())\n",
    "c1, c2, c3 = map(float,string[2:len(string)-5].split())\n",
    "c = [c1,c2,c3]\n",
    "while True:       \n",
    "    rate(60)\n",
    "    \n",
    "    s.write(bytes(\"s\",'utf-8'))\n",
    "    string = str(s.readline())\n",
    "    c1, c2, c3 = map(float,string[2:len(string)-5].split())\n",
    "    \n",
    "    face.axis = vector(1,0,0)\n",
    "    face.up = vector(0,1,0)\n",
    "    face.rotate(-c1, axis=vector(1,0,0))\n",
    "    face.rotate(-c2, axis=vector(0,1,0))\n",
    "    face.rotate(c3, axis=vector(0,0,1))\n",
    "    c = [c1, c2, c3]\n",
    "    print(scene.mouse.camera.pos)\n",
    "    #face.axis = vector(c1+c[0], c2+c[1], c3+c[2])\n",
    "    scene.caption = str(face.pos)# str(c1) + ' ' + str(c2) + ' ' + str(c3)"
   ]
  },
  {
   "cell_type": "code",
   "execution_count": null,
   "metadata": {},
   "outputs": [],
   "source": [
    "scene.delete()"
   ]
  },
  {
   "cell_type": "code",
   "execution_count": null,
   "metadata": {},
   "outputs": [],
   "source": [
    "s.close()"
   ]
  },
  {
   "cell_type": "code",
   "execution_count": null,
   "metadata": {},
   "outputs": [],
   "source": []
  },
  {
   "cell_type": "code",
   "execution_count": null,
   "metadata": {},
   "outputs": [],
   "source": []
  }
 ],
 "metadata": {
  "kernelspec": {
   "display_name": "Python 3",
   "language": "python",
   "name": "python3"
  },
  "language_info": {
   "codemirror_mode": {
    "name": "ipython",
    "version": 3
   },
   "file_extension": ".py",
   "mimetype": "text/x-python",
   "name": "python",
   "nbconvert_exporter": "python",
   "pygments_lexer": "ipython3",
   "version": "3.6.4"
  }
 },
 "nbformat": 4,
 "nbformat_minor": 2
}

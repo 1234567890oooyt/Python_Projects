{
 "cells": [
  {
   "cell_type": "code",
   "execution_count": 2,
   "metadata": {},
   "outputs": [
    {
     "data": {
      "text/plain": [
       "array([[101],\n",
       "       [102],\n",
       "       [103]])"
      ]
     },
     "execution_count": 2,
     "metadata": {},
     "output_type": "execute_result"
    }
   ],
   "source": [
    "import numpy as np\n",
    "a = np.array([ [100],\n",
    "               [101],\n",
    "               [102],\n",
    "               [103],\n",
    "               [104],\n",
    "               [105],\n",
    "               [106],\n",
    "               [107],\n",
    "               [108],\n",
    "               [109]])\n",
    "\n",
    "a.take([1,2,3], axis=0)"
   ]
  },
  {
   "cell_type": "code",
   "execution_count": 28,
   "metadata": {},
   "outputs": [],
   "source": [
    "from keras import models, layers, optimizers\n",
    "model = models.Sequential()\n",
    "model.add(layers.Dense(3, activation='relu', input_shape=(3,)))\n",
    "model.add(layers.Dense(3, activation='relu'))#, kernel_initializer='zeros', bias_initializer='zeros'))\n",
    "model.compile(optimizers.Adam(lr=0.01),loss='mse')"
   ]
  },
  {
   "cell_type": "code",
   "execution_count": 29,
   "metadata": {
    "scrolled": true
   },
   "outputs": [
    {
     "name": "stdout",
     "output_type": "stream",
     "text": [
      "Epoch 1/40\n",
      "1/1 [==============================] - 0s 214ms/step - loss: 1.0000\n",
      "Epoch 2/40\n",
      "1/1 [==============================] - 0s 3ms/step - loss: 1.0000\n",
      "Epoch 3/40\n",
      "1/1 [==============================] - 0s 2ms/step - loss: 1.0000\n",
      "Epoch 4/40\n",
      "1/1 [==============================] - 0s 3ms/step - loss: 1.0000\n",
      "Epoch 5/40\n",
      "1/1 [==============================] - 0s 3ms/step - loss: 1.0000\n",
      "Epoch 6/40\n",
      "1/1 [==============================] - 0s 2ms/step - loss: 1.0000\n",
      "Epoch 7/40\n",
      "1/1 [==============================] - 0s 2ms/step - loss: 1.0000\n",
      "Epoch 8/40\n",
      "1/1 [==============================] - 0s 2ms/step - loss: 1.0000\n",
      "Epoch 9/40\n",
      "1/1 [==============================] - 0s 3ms/step - loss: 1.0000\n",
      "Epoch 10/40\n",
      "1/1 [==============================] - 0s 3ms/step - loss: 1.0000\n",
      "Epoch 11/40\n",
      "1/1 [==============================] - 0s 2ms/step - loss: 1.0000\n",
      "Epoch 12/40\n",
      "1/1 [==============================] - 0s 2ms/step - loss: 1.0000\n",
      "Epoch 13/40\n",
      "1/1 [==============================] - 0s 2ms/step - loss: 1.0000\n",
      "Epoch 14/40\n",
      "1/1 [==============================] - 0s 2ms/step - loss: 1.0000\n",
      "Epoch 15/40\n",
      "1/1 [==============================] - 0s 2ms/step - loss: 1.0000\n",
      "Epoch 16/40\n",
      "1/1 [==============================] - 0s 3ms/step - loss: 1.0000\n",
      "Epoch 17/40\n",
      "1/1 [==============================] - 0s 3ms/step - loss: 1.0000\n",
      "Epoch 18/40\n",
      "1/1 [==============================] - 0s 2ms/step - loss: 1.0000\n",
      "Epoch 19/40\n",
      "1/1 [==============================] - 0s 4ms/step - loss: 1.0000\n",
      "Epoch 20/40\n",
      "1/1 [==============================] - 0s 2ms/step - loss: 1.0000\n",
      "Epoch 21/40\n",
      "1/1 [==============================] - 0s 3ms/step - loss: 1.0000\n",
      "Epoch 22/40\n",
      "1/1 [==============================] - 0s 2ms/step - loss: 1.0000\n",
      "Epoch 23/40\n",
      "1/1 [==============================] - 0s 3ms/step - loss: 1.0000\n",
      "Epoch 24/40\n",
      "1/1 [==============================] - 0s 3ms/step - loss: 1.0000\n",
      "Epoch 25/40\n",
      "1/1 [==============================] - 0s 2ms/step - loss: 1.0000\n",
      "Epoch 26/40\n",
      "1/1 [==============================] - 0s 2ms/step - loss: 1.0000\n",
      "Epoch 27/40\n",
      "1/1 [==============================] - 0s 2ms/step - loss: 1.0000\n",
      "Epoch 28/40\n",
      "1/1 [==============================] - 0s 2ms/step - loss: 1.0000\n",
      "Epoch 29/40\n",
      "1/1 [==============================] - 0s 2ms/step - loss: 1.0000\n",
      "Epoch 30/40\n",
      "1/1 [==============================] - 0s 2ms/step - loss: 1.0000\n",
      "Epoch 31/40\n",
      "1/1 [==============================] - 0s 2ms/step - loss: 1.0000\n",
      "Epoch 32/40\n",
      "1/1 [==============================] - 0s 2ms/step - loss: 1.0000\n",
      "Epoch 33/40\n",
      "1/1 [==============================] - 0s 2ms/step - loss: 1.0000\n",
      "Epoch 34/40\n",
      "1/1 [==============================] - 0s 2ms/step - loss: 1.0000\n",
      "Epoch 35/40\n",
      "1/1 [==============================] - 0s 2ms/step - loss: 1.0000\n",
      "Epoch 36/40\n",
      "1/1 [==============================] - 0s 4ms/step - loss: 1.0000\n",
      "Epoch 37/40\n",
      "1/1 [==============================] - 0s 2ms/step - loss: 1.0000\n",
      "Epoch 38/40\n",
      "1/1 [==============================] - 0s 3ms/step - loss: 1.0000\n",
      "Epoch 39/40\n",
      "1/1 [==============================] - 0s 2ms/step - loss: 1.0000\n",
      "Epoch 40/40\n",
      "1/1 [==============================] - 0s 2ms/step - loss: 1.0000\n"
     ]
    },
    {
     "data": {
      "text/plain": [
       "array([[0., 0., 0.]], dtype=float32)"
      ]
     },
     "execution_count": 29,
     "metadata": {},
     "output_type": "execute_result"
    }
   ],
   "source": [
    "import numpy as np\n",
    "model.fit(np.array([[1,2,5]]),np.array([[1,1,1]]), epochs=40)\n",
    "model.predict(np.array([1,2,5]).reshape(-1,3))"
   ]
  },
  {
   "cell_type": "code",
   "execution_count": null,
   "metadata": {},
   "outputs": [],
   "source": []
  }
 ],
 "metadata": {
  "kernelspec": {
   "display_name": "Python 3",
   "language": "python",
   "name": "python3"
  },
  "language_info": {
   "codemirror_mode": {
    "name": "ipython",
    "version": 3
   },
   "file_extension": ".py",
   "mimetype": "text/x-python",
   "name": "python",
   "nbconvert_exporter": "python",
   "pygments_lexer": "ipython3",
   "version": "3.6.4"
  }
 },
 "nbformat": 4,
 "nbformat_minor": 2
}

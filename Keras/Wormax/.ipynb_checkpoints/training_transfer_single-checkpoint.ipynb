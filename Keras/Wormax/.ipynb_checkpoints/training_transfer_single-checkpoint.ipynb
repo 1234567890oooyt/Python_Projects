{
 "cells": [
  {
   "cell_type": "markdown",
   "metadata": {},
   "source": [
    " TRY\n",
    "top_k_categorical_accuracy\n",
    "https://stackoverflow.com/questions/47887533/keras-convolution-along-samples\n",
    "https://keras.io/layers/wrappers/#timedistributed"
   ]
  },
  {
   "cell_type": "markdown",
   "metadata": {},
   "source": [
    "# Fine tuning one look"
   ]
  },
  {
   "cell_type": "code",
   "execution_count": 1,
   "metadata": {},
   "outputs": [],
   "source": [
    "input_width = 160\n",
    "input_height = 100\n",
    "channels = 2\n",
    "class_number = 12\n",
    "data_path = \"D:\\\\Python\\\\Wormax_learn2\\\\preprocessed_data_local_notshuffled\\\\\""
   ]
  },
  {
   "cell_type": "code",
   "execution_count": 2,
   "metadata": {},
   "outputs": [
    {
     "name": "stderr",
     "output_type": "stream",
     "text": [
      "Q:\\Program Files\\Anaconda3\\lib\\site-packages\\h5py\\__init__.py:36: FutureWarning: Conversion of the second argument of issubdtype from `float` to `np.floating` is deprecated. In future, it will be treated as `np.float64 == np.dtype(float).type`.\n",
      "  from ._conv import register_converters as _register_converters\n",
      "Using TensorFlow backend.\n"
     ]
    }
   ],
   "source": [
    "from keras.models import Sequential, Model\n",
    "from keras import layers, models\n",
    "import keras.backend as K\n",
    "from keras.applications import Xception\n",
    "\n",
    "conv_base = Xception(weights='imagenet',\n",
    "                    include_top=False,\n",
    "                    input_shape=(input_height, input_width, 3))\n",
    "\n",
    "def actual_acc(y_true, y_pred):\n",
    "    return K.equal(K.argmax(y_pred), K.argmax(y_true))\n",
    "\n",
    "\n",
    "def define_model():\n",
    "    model = models.Sequential()\n",
    "    model.add(conv_base)\n",
    "    model.add(layers.Flatten())\n",
    "    model.add(layers.Dense(256, activation='relu'))\n",
    "    model.add(layers.Dense(256, activation='relu'))\n",
    "    \n",
    "    model.add(layers.Dense(class_number, activation='softmax'))\n",
    "   \n",
    "    model.compile(optimizer='rmsprop', loss='categorical_crossentropy',\n",
    "                  metrics=[actual_acc])\n",
    "    \n",
    "    model.summary()\n",
    "    return model"
   ]
  },
  {
   "cell_type": "code",
   "execution_count": 3,
   "metadata": {},
   "outputs": [
    {
     "name": "stdout",
     "output_type": "stream",
     "text": [
      "_________________________________________________________________\n",
      "Layer (type)                 Output Shape              Param #   \n",
      "=================================================================\n",
      "xception (Model)             (None, 3, 5, 2048)        20861480  \n",
      "_________________________________________________________________\n",
      "flatten_1 (Flatten)          (None, 30720)             0         \n",
      "_________________________________________________________________\n",
      "dense_1 (Dense)              (None, 256)               7864576   \n",
      "_________________________________________________________________\n",
      "dense_2 (Dense)              (None, 256)               65792     \n",
      "_________________________________________________________________\n",
      "dense_3 (Dense)              (None, 12)                3084      \n",
      "=================================================================\n",
      "Total params: 28,794,932\n",
      "Trainable params: 7,933,452\n",
      "Non-trainable params: 20,861,480\n",
      "_________________________________________________________________\n"
     ]
    }
   ],
   "source": [
    "#conv_base.summary()\n",
    "conv_base.trainable = False\n",
    "model = define_model()"
   ]
  },
  {
   "cell_type": "code",
   "execution_count": 4,
   "metadata": {},
   "outputs": [],
   "source": [
    "# little prepocessing\n",
    "from math import atan2, pi\n",
    "\n",
    "def get_angle(x, y):\n",
    "    return atan2(y, x)\n",
    "\n",
    "def get_direction(x, y, n_classes = 12):\n",
    "    return round(get_angle(x, y)/2/pi*n_classes)%n_classes"
   ]
  },
  {
   "cell_type": "code",
   "execution_count": 5,
   "metadata": {},
   "outputs": [],
   "source": [
    "import numpy as np\n",
    "import os\n",
    "import random\n",
    "from functools import reduce\n",
    "from keras.utils import to_categorical\n",
    "\n",
    "# Training and validation\n",
    "data_ratio = 0.7\n",
    "\n",
    "def generator(data_dir, num_classes, role, shuffle=True, batch_size=128):\n",
    "    \n",
    "    listdir = []\n",
    "    listdir = filter(lambda x: os.path.isfile, os.listdir(data_dir))\n",
    "    listdir = np.array(list(listdir))\n",
    "    random.shuffle(listdir)\n",
    "    \n",
    "    #print('Found {} files for {}'.format(len(listdir), role))\n",
    "    \n",
    "    file_i = 0\n",
    "    while 1:\n",
    "        data = np.load(data_dir + listdir[file_i])\n",
    "        file_i = (file_i+1) if file_i+1<len(listdir) else 0\n",
    "        \n",
    "        if role == 'train':\n",
    "            data = data[:int(round(len(data)*data_ratio))]\n",
    "        elif role == 'validation':\n",
    "            data = data[int(round(len(data)*data_ratio)):]\n",
    "        else:\n",
    "            raise 'bad role parameter'\n",
    "        \n",
    "        if shuffle:\n",
    "            np.random.shuffle(data)\n",
    "        \n",
    "        for i in range(0, len(data)-1-batch_size, batch_size):\n",
    "            samples = data[i:i+batch_size, 0]\n",
    "            targets = []\n",
    "            for j in range(batch_size):\n",
    "                targets.append(\n",
    "                    to_categorical(get_direction(*data[i+1+j][1][:2]), num_classes=num_classes)\n",
    "                )\n",
    "            \n",
    "            #print(np.array(targets).shape)\n",
    "            \n",
    "            # Weird reshape cuz bug\n",
    "            samples2 = np.zeros((batch_size, input_height, input_width, 3))\n",
    "            for j, sample in enumerate(samples):\n",
    "                samples2[j] = sample\n",
    "            \n",
    "            yield samples2, np.array(targets)"
   ]
  },
  {
   "cell_type": "code",
   "execution_count": 6,
   "metadata": {},
   "outputs": [
    {
     "name": "stdout",
     "output_type": "stream",
     "text": [
      "(128, 100, 160, 3)\n"
     ]
    }
   ],
   "source": [
    "import numpy as np\n",
    "\n",
    "train_generator = generator(data_path, class_number, 'train', batch_size=128)\n",
    "validation_generator = generator(data_path, class_number, 'validation', batch_size=128)\n",
    "\n",
    "print(next(train_generator)[0].shape)"
   ]
  },
  {
   "cell_type": "code",
   "execution_count": 7,
   "metadata": {
    "scrolled": false
   },
   "outputs": [
    {
     "data": {
      "text/plain": [
       "[11.773265800476075, 0.066015625]"
      ]
     },
     "execution_count": 7,
     "metadata": {},
     "output_type": "execute_result"
    }
   ],
   "source": [
    "model.evaluate_generator(validation_generator, 100)"
   ]
  },
  {
   "cell_type": "code",
   "execution_count": 8,
   "metadata": {
    "scrolled": false
   },
   "outputs": [
    {
     "name": "stdout",
     "output_type": "stream",
     "text": [
      "Epoch 1/100\n",
      "200/200 [==============================] - 150s 748ms/step - loss: 2.6466 - actual_acc: 0.1290 - val_loss: 5.2412 - val_actual_acc: 0.1503\n",
      "Epoch 2/100\n",
      "200/200 [==============================] - 155s 777ms/step - loss: 2.4194 - actual_acc: 0.1408 - val_loss: 2.6075 - val_actual_acc: 0.1480\n",
      "Epoch 3/100\n",
      "200/200 [==============================] - 159s 797ms/step - loss: 2.4126 - actual_acc: 0.1394 - val_loss: 2.4757 - val_actual_acc: 0.1266\n",
      "Epoch 4/100\n",
      "200/200 [==============================] - 160s 802ms/step - loss: 2.4038 - actual_acc: 0.1404 - val_loss: 2.7549 - val_actual_acc: 0.1297\n",
      "Epoch 5/100\n",
      "200/200 [==============================] - 153s 764ms/step - loss: 2.4054 - actual_acc: 0.1579 - val_loss: 2.4327 - val_actual_acc: 0.1268\n",
      "Epoch 6/100\n",
      "200/200 [==============================] - 153s 767ms/step - loss: 2.4299 - actual_acc: 0.1369 - val_loss: 2.5345 - val_actual_acc: 0.1149\n",
      "Epoch 7/100\n",
      "200/200 [==============================] - 158s 791ms/step - loss: 2.4329 - actual_acc: 0.1310 - val_loss: 2.4233 - val_actual_acc: 0.1333\n",
      "Epoch 8/100\n",
      "200/200 [==============================] - 155s 775ms/step - loss: 2.4410 - actual_acc: 0.1352 - val_loss: 2.4319 - val_actual_acc: 0.1398\n",
      "Epoch 9/100\n",
      "200/200 [==============================] - 154s 770ms/step - loss: 2.4132 - actual_acc: 0.1418 - val_loss: 2.4445 - val_actual_acc: 0.1395\n",
      "Epoch 10/100\n",
      "200/200 [==============================] - 158s 790ms/step - loss: 2.3899 - actual_acc: 0.1588 - val_loss: 2.4479 - val_actual_acc: 0.1246\n",
      "Epoch 11/100\n",
      "200/200 [==============================] - 159s 796ms/step - loss: 2.3868 - actual_acc: 0.1502 - val_loss: 2.4409 - val_actual_acc: 0.1438\n",
      "Epoch 12/100\n",
      "200/200 [==============================] - 152s 762ms/step - loss: 2.3817 - actual_acc: 0.1586 - val_loss: 2.4722 - val_actual_acc: 0.1554\n",
      "Epoch 13/100\n",
      "200/200 [==============================] - 153s 767ms/step - loss: 2.4029 - actual_acc: 0.1495 - val_loss: 2.5919 - val_actual_acc: 0.1628\n",
      "Epoch 14/100\n",
      "200/200 [==============================] - 155s 776ms/step - loss: 2.4198 - actual_acc: 0.1433 - val_loss: 2.4186 - val_actual_acc: 0.1582\n",
      "Epoch 15/100\n",
      "200/200 [==============================] - 179s 895ms/step - loss: 2.4085 - actual_acc: 0.1416 - val_loss: 2.5680 - val_actual_acc: 0.1404\n",
      "Epoch 16/100\n",
      "200/200 [==============================] - 176s 882ms/step - loss: 2.4047 - actual_acc: 0.1420 - val_loss: 3.8824 - val_actual_acc: 0.1127\n",
      "Epoch 17/100\n",
      "200/200 [==============================] - 166s 829ms/step - loss: 2.4048 - actual_acc: 0.1413 - val_loss: 2.4669 - val_actual_acc: 0.1230\n",
      "Epoch 18/100\n",
      "200/200 [==============================] - 158s 788ms/step - loss: 2.4080 - actual_acc: 0.1584 - val_loss: 2.4679 - val_actual_acc: 0.1500\n",
      "Epoch 19/100\n",
      "200/200 [==============================] - 160s 801ms/step - loss: 2.4275 - actual_acc: 0.1346 - val_loss: 2.7326 - val_actual_acc: 0.1226\n",
      "Epoch 20/100\n",
      "200/200 [==============================] - 156s 782ms/step - loss: 2.4296 - actual_acc: 0.1319 - val_loss: 2.4308 - val_actual_acc: 0.1165\n",
      "Epoch 21/100\n",
      "200/200 [==============================] - 159s 794ms/step - loss: 2.4408 - actual_acc: 0.1358 - val_loss: 2.4576 - val_actual_acc: 0.1044\n",
      "Epoch 22/100\n",
      "200/200 [==============================] - 159s 796ms/step - loss: 2.4109 - actual_acc: 0.1426 - val_loss: 2.4452 - val_actual_acc: 0.1351\n",
      "Epoch 23/100\n",
      "200/200 [==============================] - 155s 776ms/step - loss: 2.3773 - actual_acc: 0.1611 - val_loss: 3.4407 - val_actual_acc: 0.1354\n",
      "Epoch 24/100\n",
      "200/200 [==============================] - 154s 769ms/step - loss: 2.3876 - actual_acc: 0.1513 - val_loss: 2.4324 - val_actual_acc: 0.1581\n",
      "Epoch 25/100\n",
      "200/200 [==============================] - 160s 801ms/step - loss: 2.3836 - actual_acc: 0.1568 - val_loss: 2.4085 - val_actual_acc: 0.1746\n",
      "Epoch 26/100\n",
      "200/200 [==============================] - 172s 860ms/step - loss: 2.4017 - actual_acc: 0.1546 - val_loss: 2.4352 - val_actual_acc: 0.1436\n",
      "Epoch 27/100\n",
      "200/200 [==============================] - 165s 825ms/step - loss: 2.4188 - actual_acc: 0.1426 - val_loss: 2.4634 - val_actual_acc: 0.1341\n",
      "Epoch 28/100\n",
      "200/200 [==============================] - 162s 811ms/step - loss: 2.4130 - actual_acc: 0.1348 - val_loss: 2.4300 - val_actual_acc: 0.1400\n",
      "Epoch 29/100\n",
      "200/200 [==============================] - 161s 803ms/step - loss: 2.3977 - actual_acc: 0.1423 - val_loss: 2.4531 - val_actual_acc: 0.1676\n",
      "Epoch 30/100\n",
      "200/200 [==============================] - 155s 773ms/step - loss: 2.4026 - actual_acc: 0.1454 - val_loss: 2.5359 - val_actual_acc: 0.1357\n",
      "Epoch 31/100\n",
      "200/200 [==============================] - 156s 778ms/step - loss: 2.4130 - actual_acc: 0.1534 - val_loss: 2.4793 - val_actual_acc: 0.1174\n",
      "Epoch 32/100\n",
      "200/200 [==============================] - 156s 781ms/step - loss: 2.4268 - actual_acc: 0.1387 - val_loss: 2.4332 - val_actual_acc: 0.1364\n",
      "Epoch 33/100\n",
      "200/200 [==============================] - 161s 806ms/step - loss: 2.4299 - actual_acc: 0.1330 - val_loss: 2.4440 - val_actual_acc: 0.1221\n",
      "Epoch 34/100\n",
      "200/200 [==============================] - 156s 782ms/step - loss: 2.4381 - actual_acc: 0.1347 - val_loss: 2.4219 - val_actual_acc: 0.1225\n",
      "Epoch 35/100\n",
      "200/200 [==============================] - 155s 775ms/step - loss: 2.4100 - actual_acc: 0.1441 - val_loss: 2.4251 - val_actual_acc: 0.1408\n",
      "Epoch 36/100\n",
      "200/200 [==============================] - 155s 775ms/step - loss: 2.3731 - actual_acc: 0.1611 - val_loss: 2.4684 - val_actual_acc: 0.1417\n",
      "Epoch 37/100\n",
      "200/200 [==============================] - 160s 800ms/step - loss: 2.3841 - actual_acc: 0.1544 - val_loss: 2.4582 - val_actual_acc: 0.1359\n",
      "Epoch 38/100\n",
      "200/200 [==============================] - 156s 781ms/step - loss: 2.3901 - actual_acc: 0.1545 - val_loss: 2.4257 - val_actual_acc: 0.1423\n",
      "Epoch 39/100\n",
      "200/200 [==============================] - 174s 869ms/step - loss: 2.4064 - actual_acc: 0.1516 - val_loss: 2.4411 - val_actual_acc: 0.1340\n",
      "Epoch 40/100\n",
      "200/200 [==============================] - 163s 817ms/step - loss: 2.4118 - actual_acc: 0.1440 - val_loss: 2.4422 - val_actual_acc: 0.1381\n",
      "Epoch 41/100\n",
      "200/200 [==============================] - 158s 790ms/step - loss: 2.4198 - actual_acc: 0.1350 - val_loss: 2.4275 - val_actual_acc: 0.1711\n",
      "Epoch 42/100\n",
      "200/200 [==============================] - 163s 815ms/step - loss: 2.3977 - actual_acc: 0.1421 - val_loss: 2.4015 - val_actual_acc: 0.1585\n",
      "Epoch 43/100\n",
      "200/200 [==============================] - 162s 808ms/step - loss: 2.3951 - actual_acc: 0.1536 - val_loss: 2.4550 - val_actual_acc: 0.1111\n",
      "Epoch 44/100\n",
      "200/200 [==============================] - 159s 795ms/step - loss: 2.4184 - actual_acc: 0.1480 - val_loss: 2.4533 - val_actual_acc: 0.1058\n",
      "Epoch 45/100\n",
      "200/200 [==============================] - 159s 793ms/step - loss: 2.4289 - actual_acc: 0.1340 - val_loss: 2.4358 - val_actual_acc: 0.1236\n",
      "Epoch 46/100\n",
      "200/200 [==============================] - 157s 785ms/step - loss: 2.4267 - actual_acc: 0.1331 - val_loss: 2.4244 - val_actual_acc: 0.1445\n",
      "Epoch 47/100\n",
      "200/200 [==============================] - 162s 808ms/step - loss: 2.4401 - actual_acc: 0.1340 - val_loss: 2.4187 - val_actual_acc: 0.1367\n",
      "Epoch 48/100\n",
      "200/200 [==============================] - 156s 779ms/step - loss: 2.4082 - actual_acc: 0.1461 - val_loss: 2.4375 - val_actual_acc: 0.1295\n",
      "Epoch 49/100\n",
      "200/200 [==============================] - 153s 766ms/step - loss: 2.3716 - actual_acc: 0.1631 - val_loss: 2.3873 - val_actual_acc: 0.1552\n",
      "Epoch 50/100\n",
      "200/200 [==============================] - 160s 800ms/step - loss: 2.3770 - actual_acc: 0.1563 - val_loss: 2.4848 - val_actual_acc: 0.1282\n",
      "Epoch 51/100\n",
      "200/200 [==============================] - 173s 867ms/step - loss: 2.3990 - actual_acc: 0.1509 - val_loss: 2.4225 - val_actual_acc: 0.1385\n",
      "Epoch 52/100\n",
      "200/200 [==============================] - 162s 808ms/step - loss: 2.4098 - actual_acc: 0.1493 - val_loss: 2.4321 - val_actual_acc: 0.1275\n",
      "Epoch 53/100\n",
      "200/200 [==============================] - 156s 782ms/step - loss: 2.4122 - actual_acc: 0.1448 - val_loss: 2.4421 - val_actual_acc: 0.1690\n",
      "Epoch 54/100\n",
      "200/200 [==============================] - 163s 815ms/step - loss: 2.4141 - actual_acc: 0.1356 - val_loss: 2.3998 - val_actual_acc: 0.1536\n"
     ]
    },
    {
     "name": "stdout",
     "output_type": "stream",
     "text": [
      "Epoch 55/100\n",
      "200/200 [==============================] - 159s 793ms/step - loss: 2.4054 - actual_acc: 0.1359 - val_loss: 2.4341 - val_actual_acc: 0.1416\n",
      "Epoch 56/100\n",
      "200/200 [==============================] - 162s 811ms/step - loss: 2.3841 - actual_acc: 0.1609 - val_loss: 2.4971 - val_actual_acc: 0.0987\n",
      "Epoch 57/100\n",
      "200/200 [==============================] - 166s 831ms/step - loss: 2.4301 - actual_acc: 0.1404 - val_loss: 2.4247 - val_actual_acc: 0.1456\n",
      "Epoch 58/100\n",
      "200/200 [==============================] - 169s 843ms/step - loss: 2.4275 - actual_acc: 0.1361 - val_loss: 2.4237 - val_actual_acc: 0.1448\n",
      "Epoch 59/100\n",
      "200/200 [==============================] - 163s 814ms/step - loss: 2.4283 - actual_acc: 0.1325 - val_loss: 2.4340 - val_actual_acc: 0.1583\n",
      "Epoch 60/100\n",
      "200/200 [==============================] - 155s 774ms/step - loss: 2.4399 - actual_acc: 0.1309 - val_loss: 2.4198 - val_actual_acc: 0.1156\n",
      "Epoch 61/100\n",
      "200/200 [==============================] - 163s 816ms/step - loss: 2.3988 - actual_acc: 0.1533 - val_loss: 2.3967 - val_actual_acc: 0.1553\n",
      "Epoch 62/100\n",
      "200/200 [==============================] - 163s 815ms/step - loss: 2.3785 - actual_acc: 0.1589 - val_loss: 2.4403 - val_actual_acc: 0.1334\n",
      "Epoch 63/100\n",
      "200/200 [==============================] - 193s 967ms/step - loss: 2.3718 - actual_acc: 0.1598 - val_loss: 2.4690 - val_actual_acc: 0.1058\n",
      "Epoch 64/100\n",
      "200/200 [==============================] - 168s 838ms/step - loss: 2.4081 - actual_acc: 0.1468 - val_loss: 2.4401 - val_actual_acc: 0.1221\n",
      "Epoch 65/100\n",
      "200/200 [==============================] - 170s 851ms/step - loss: 2.4149 - actual_acc: 0.1437 - val_loss: 2.4235 - val_actual_acc: 0.1247\n",
      "Epoch 66/100\n",
      "200/200 [==============================] - 165s 823ms/step - loss: 2.4130 - actual_acc: 0.1462 - val_loss: 2.4062 - val_actual_acc: 0.1486\n",
      "Epoch 67/100\n",
      "200/200 [==============================] - 160s 801ms/step - loss: 2.4053 - actual_acc: 0.1371 - val_loss: 2.4391 - val_actual_acc: 0.1149\n",
      "Epoch 68/100\n",
      "200/200 [==============================] - 169s 845ms/step - loss: 2.4063 - actual_acc: 0.1369 - val_loss: 2.4737 - val_actual_acc: 0.1333\n",
      "Epoch 69/100\n",
      "200/200 [==============================] - 164s 818ms/step - loss: 2.3884 - actual_acc: 0.1629 - val_loss: 2.4384 - val_actual_acc: 0.1280\n",
      "Epoch 70/100\n",
      "200/200 [==============================] - 156s 782ms/step - loss: 2.4328 - actual_acc: 0.1373 - val_loss: 2.4207 - val_actual_acc: 0.1571\n",
      "Epoch 71/100\n",
      "200/200 [==============================] - 156s 782ms/step - loss: 2.4271 - actual_acc: 0.1377 - val_loss: 2.4326 - val_actual_acc: 0.1090\n",
      "Epoch 72/100\n",
      "200/200 [==============================] - 154s 771ms/step - loss: 2.4298 - actual_acc: 0.1335 - val_loss: 2.4048 - val_actual_acc: 0.1748\n",
      "Epoch 73/100\n",
      "200/200 [==============================] - 163s 816ms/step - loss: 2.4307 - actual_acc: 0.1309 - val_loss: 2.4334 - val_actual_acc: 0.1443\n",
      "Epoch 74/100\n",
      "200/200 [==============================] - 182s 910ms/step - loss: 2.3982 - actual_acc: 0.1546 - val_loss: 2.4495 - val_actual_acc: 0.1246\n",
      "Epoch 75/100\n",
      "200/200 [==============================] - 156s 778ms/step - loss: 2.3823 - actual_acc: 0.1534 - val_loss: 2.4265 - val_actual_acc: 0.1403\n",
      "Epoch 76/100\n",
      "200/200 [==============================] - 165s 824ms/step - loss: 2.3703 - actual_acc: 0.1620 - val_loss: 2.4372 - val_actual_acc: 0.1696\n",
      "Epoch 77/100\n",
      "200/200 [==============================] - 161s 805ms/step - loss: 2.4081 - actual_acc: 0.1476 - val_loss: 2.4176 - val_actual_acc: 0.1357\n",
      "Epoch 78/100\n",
      "200/200 [==============================] - 156s 780ms/step - loss: 2.4171 - actual_acc: 0.1454 - val_loss: 2.4371 - val_actual_acc: 0.1170\n",
      "Epoch 79/100\n",
      "200/200 [==============================] - 161s 804ms/step - loss: 2.4107 - actual_acc: 0.1446 - val_loss: 2.4691 - val_actual_acc: 0.1164\n",
      "Epoch 80/100\n",
      "200/200 [==============================] - 161s 806ms/step - loss: 2.4028 - actual_acc: 0.1413 - val_loss: 2.4642 - val_actual_acc: 0.1211\n",
      "Epoch 81/100\n",
      "200/200 [==============================] - 159s 794ms/step - loss: 2.4057 - actual_acc: 0.1382 - val_loss: 2.4292 - val_actual_acc: 0.1222\n",
      "Epoch 82/100\n",
      "200/200 [==============================] - 155s 774ms/step - loss: 2.3976 - actual_acc: 0.1591 - val_loss: 2.4291 - val_actual_acc: 0.1458\n",
      "Epoch 83/100\n",
      "200/200 [==============================] - 154s 769ms/step - loss: 2.4296 - actual_acc: 0.1393 - val_loss: 2.4475 - val_actual_acc: 0.1020\n",
      "Epoch 84/100\n",
      "200/200 [==============================] - 164s 819ms/step - loss: 2.4293 - actual_acc: 0.1332 - val_loss: 2.4059 - val_actual_acc: 0.1862\n",
      "Epoch 85/100\n",
      "200/200 [==============================] - 164s 818ms/step - loss: 2.4305 - actual_acc: 0.1385 - val_loss: 2.4413 - val_actual_acc: 0.1414\n",
      "Epoch 86/100\n",
      "200/200 [==============================] - 171s 854ms/step - loss: 2.4173 - actual_acc: 0.1358 - val_loss: 2.4774 - val_actual_acc: 0.1132\n",
      "Epoch 87/100\n",
      "200/200 [==============================] - 165s 825ms/step - loss: 2.4030 - actual_acc: 0.1542 - val_loss: 2.4238 - val_actual_acc: 0.1313\n",
      "Epoch 88/100\n",
      "200/200 [==============================] - 162s 808ms/step - loss: 2.3862 - actual_acc: 0.1491 - val_loss: 2.4472 - val_actual_acc: 0.1066\n",
      "Epoch 89/100\n",
      "200/200 [==============================] - 164s 818ms/step - loss: 2.3703 - actual_acc: 0.1620 - val_loss: 2.3956 - val_actual_acc: 0.1581\n",
      "Epoch 90/100\n",
      "200/200 [==============================] - 156s 782ms/step - loss: 2.4044 - actual_acc: 0.1488 - val_loss: 2.4641 - val_actual_acc: 0.1385\n",
      "Epoch 91/100\n",
      "200/200 [==============================] - 166s 831ms/step - loss: 2.4220 - actual_acc: 0.1414 - val_loss: 2.4587 - val_actual_acc: 0.1060\n",
      "Epoch 92/100\n",
      "200/200 [==============================] - 163s 815ms/step - loss: 2.4023 - actual_acc: 0.1448 - val_loss: 2.4609 - val_actual_acc: 0.1310\n",
      "Epoch 93/100\n",
      "200/200 [==============================] - 159s 795ms/step - loss: 2.4088 - actual_acc: 0.1409 - val_loss: 2.4339 - val_actual_acc: 0.1435\n",
      "Epoch 94/100\n",
      "200/200 [==============================] - 164s 821ms/step - loss: 2.4019 - actual_acc: 0.1399 - val_loss: 2.4165 - val_actual_acc: 0.1364\n",
      "Epoch 95/100\n",
      "200/200 [==============================] - 162s 808ms/step - loss: 2.4009 - actual_acc: 0.1583 - val_loss: 2.4463 - val_actual_acc: 0.1262\n",
      "Epoch 96/100\n",
      "200/200 [==============================] - 158s 789ms/step - loss: 2.4277 - actual_acc: 0.1375 - val_loss: 2.3929 - val_actual_acc: 0.1738\n",
      "Epoch 97/100\n",
      "200/200 [==============================] - 159s 797ms/step - loss: 2.4317 - actual_acc: 0.1290 - val_loss: 2.4636 - val_actual_acc: 0.1270\n",
      "Epoch 98/100\n",
      "200/200 [==============================] - 176s 881ms/step - loss: 2.4349 - actual_acc: 0.1369 - val_loss: 2.4450 - val_actual_acc: 0.1152\n",
      "Epoch 99/100\n",
      "200/200 [==============================] - 163s 816ms/step - loss: 2.4087 - actual_acc: 0.1411 - val_loss: 2.4439 - val_actual_acc: 0.1270\n",
      "Epoch 100/100\n",
      "200/200 [==============================] - 162s 810ms/step - loss: 2.3984 - actual_acc: 0.1581 - val_loss: 2.4211 - val_actual_acc: 0.1700\n"
     ]
    }
   ],
   "source": [
    "steps_per_epoch = 200\n",
    "history = model.fit_generator(train_generator,\n",
    "                            steps_per_epoch=steps_per_epoch,\n",
    "                            epochs=100,\n",
    "                            validation_data=validation_generator,\n",
    "                            validation_steps=int(round(steps_per_epoch/data_ratio*(1-data_ratio))),\n",
    "                            shuffle=True\n",
    "                             )\n",
    "\n",
    "model.save('worm1_transfer_single_delme.h5')\n"
   ]
  },
  {
   "cell_type": "code",
   "execution_count": 10,
   "metadata": {},
   "outputs": [
    {
     "data": {
      "image/png": "[encoded data removed]",
      "text/plain": [
       "<matplotlib.figure.Figure at 0x1f50679b320>"
      ]
     },
     "metadata": {},
     "output_type": "display_data"
    },
    {
     "data": {
      "image/png": "[encoded data removed]",
      "text/plain": [
       "<matplotlib.figure.Figure at 0x1f564ce0630>"
      ]
     },
     "metadata": {},
     "output_type": "display_data"
    }
   ],
   "source": [
    "import matplotlib.pyplot as plt\n",
    "\n",
    "acc = history.history['actual_acc']\n",
    "val_acc = history.history['val_actual_acc']\n",
    "loss = history.history['loss']\n",
    "val_loss = history.history['val_loss']\n",
    "\n",
    "epochs = range(1, len(acc) + 1)\n",
    "\n",
    "def smooth_curve(points, factor=0.8):\n",
    "    smoothed_points = []\n",
    "    for point in points:\n",
    "        if smoothed_points:\n",
    "            previous = smoothed_points[-1]\n",
    "            smoothed_points.append(previous * factor + point * (1 - factor))\n",
    "        else:\n",
    "            smoothed_points.append(point)\n",
    "    return smoothed_points\n",
    "\n",
    "plt.plot(epochs,\n",
    "smooth_curve(acc), 'bo', label='Smoothed training acc')\n",
    "plt.plot(epochs,\n",
    "smooth_curve(val_acc), 'b', label='Smoothed validation acc')\n",
    "plt.title('Training and validation accuracy')\n",
    "plt.legend()\n",
    "\n",
    "plt.figure()\n",
    "\n",
    "plt.plot(epochs,\n",
    "smooth_curve(loss), 'bo', label='Smoothed training loss')\n",
    "plt.plot(epochs,\n",
    "smooth_curve(val_loss), 'b', label='Smoothed validation loss')\n",
    "plt.title('Training and validation loss')\n",
    "plt.legend()\n",
    "plt.show()"
   ]
  },
  {
   "cell_type": "code",
   "execution_count": null,
   "metadata": {},
   "outputs": [],
   "source": []
  },
  {
   "cell_type": "code",
   "execution_count": null,
   "metadata": {},
   "outputs": [],
   "source": []
  },
  {
   "cell_type": "code",
   "execution_count": null,
   "metadata": {},
   "outputs": [],
   "source": []
  }
 ],
 "metadata": {
  "kernelspec": {
   "display_name": "Python 3",
   "language": "python",
   "name": "python3"
  },
  "language_info": {
   "codemirror_mode": {
    "name": "ipython",
    "version": 3
   },
   "file_extension": ".py",
   "mimetype": "text/x-python",
   "name": "python",
   "nbconvert_exporter": "python",
   "pygments_lexer": "ipython3",
   "version": "3.6.4"
  }
 },
 "nbformat": 4,
 "nbformat_minor": 2
}

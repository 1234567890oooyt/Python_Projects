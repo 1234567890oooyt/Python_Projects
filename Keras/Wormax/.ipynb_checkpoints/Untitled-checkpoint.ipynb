{
 "cells": [
  {
   "cell_type": "code",
   "execution_count": 5,
   "metadata": {},
   "outputs": [],
   "source": [
    "import numpy as np\n",
    "import os\n",
    "import random\n",
    "from functools import reduce\n",
    "\n",
    "data = []\n",
    "data_path = \"D:\\\\Python\\\\Wormax_learn2\\\\preprocessed_data_local_notshuffled_2ch\\\\\"\n",
    "\n",
    "listdir = []\n",
    "dirsOnly = reduce(lambda x,y: x and y, map(lambda x: os.path.isdir(data_path + x), os.listdir(data_path)))\n",
    "if not dirsOnly:\n",
    "    listdir = filter(lambda x: os.path.isfile, os.listdir(data_path))\n",
    "else:\n",
    "    for dir in os.listdir(data_path):\n",
    "        listdir += map(lambda x: dir + \"\\\\\" + x, os.listdir(data_path + dir))\n",
    "    random.shuffle(listdir)\n",
    "\n",
    "for file_name in listdir:\n",
    "    data = np.load(data_path + file_name)\n",
    "    break\n"
   ]
  },
  {
   "cell_type": "code",
   "execution_count": 10,
   "metadata": {},
   "outputs": [
    {
     "name": "stdout",
     "output_type": "stream",
     "text": [
      "(2,)\n"
     ]
    }
   ],
   "source": [
    "print(data[0].shape)"
   ]
  },
  {
   "cell_type": "code",
   "execution_count": null,
   "metadata": {},
   "outputs": [],
   "source": [
    "for i in range()"
   ]
  },
  {
   "cell_type": "code",
   "execution_count": 3,
   "metadata": {},
   "outputs": [],
   "source": [
    "file_path = 'D:\\Python\\Wormax_learn2\\preprocessed_data_local_notshuffled_2ch\\preprocessed-0-10000.npy'"
   ]
  },
  {
   "cell_type": "code",
   "execution_count": 8,
   "metadata": {},
   "outputs": [
    {
     "name": "stdout",
     "output_type": "stream",
     "text": [
      "(10000, 2)\n",
      "(100, 160, 2)\n",
      "(10000, 2)\n",
      "(100, 160, 2)\n"
     ]
    },
    {
     "ename": "ValueError",
     "evalue": "could not broadcast input array from shape (3) into shape (100,160,2)",
     "output_type": "error",
     "traceback": [
      "\u001b[1;31m---------------------------------------------------------------------------\u001b[0m",
      "\u001b[1;31mValueError\u001b[0m                                Traceback (most recent call last)",
      "\u001b[1;32m<ipython-input-8-178b75471638>\u001b[0m in \u001b[0;36m<module>\u001b[1;34m()\u001b[0m\n\u001b[0;32m     14\u001b[0m \u001b[1;32mfor\u001b[0m \u001b[0mi\u001b[0m \u001b[1;32min\u001b[0m \u001b[0mrange\u001b[0m\u001b[1;33m(\u001b[0m\u001b[0mlen\u001b[0m\u001b[1;33m(\u001b[0m\u001b[0mdata\u001b[0m\u001b[1;33m)\u001b[0m\u001b[1;33m)\u001b[0m\u001b[1;33m:\u001b[0m\u001b[1;33m\u001b[0m\u001b[0m\n\u001b[0;32m     15\u001b[0m     \u001b[1;32mfor\u001b[0m \u001b[0mj\u001b[0m \u001b[1;32min\u001b[0m \u001b[0mrange\u001b[0m\u001b[1;33m(\u001b[0m\u001b[0mlen\u001b[0m\u001b[1;33m(\u001b[0m\u001b[0mdata\u001b[0m\u001b[1;33m[\u001b[0m\u001b[1;36m0\u001b[0m\u001b[1;33m]\u001b[0m\u001b[1;33m)\u001b[0m\u001b[1;33m)\u001b[0m\u001b[1;33m:\u001b[0m\u001b[1;33m\u001b[0m\u001b[0m\n\u001b[1;32m---> 16\u001b[1;33m         \u001b[0mdata2\u001b[0m\u001b[1;33m[\u001b[0m\u001b[0mi\u001b[0m\u001b[1;33m]\u001b[0m\u001b[1;33m[\u001b[0m\u001b[0mj\u001b[0m\u001b[1;33m]\u001b[0m \u001b[1;33m=\u001b[0m \u001b[0mdata\u001b[0m\u001b[1;33m[\u001b[0m\u001b[0mi\u001b[0m\u001b[1;33m]\u001b[0m\u001b[1;33m[\u001b[0m\u001b[0mj\u001b[0m\u001b[1;33m]\u001b[0m\u001b[1;33m\u001b[0m\u001b[0m\n\u001b[0m\u001b[0;32m     17\u001b[0m \u001b[1;33m\u001b[0m\u001b[0m\n\u001b[0;32m     18\u001b[0m '''i = 0\n",
      "\u001b[1;31mValueError\u001b[0m: could not broadcast input array from shape (3) into shape (100,160,2)"
     ]
    }
   ],
   "source": [
    "import numpy as np\n",
    "data = np.load(file_path)\n",
    "print(data.shape)\n",
    "print(data[0][0].shape)\n",
    "\n",
    "for i in range(len(data)):\n",
    "    for j in range(len(data[0])):\n",
    "        data[i][j] = np.array(data[i][j])\n",
    "\n",
    "print(data.shape)\n",
    "print(data[0][0].shape)\n",
    "\n",
    "data2 = np.zeros((10000, 2, 100, 160, 2))\n",
    "for i in range(len(data)):\n",
    "    for j in range(len(data[0])):\n",
    "        data2[i][j] = data[i][j]\n",
    "\n",
    "print(data2.shape)\n",
    "print(data2[0][0].shape)\n",
    "        \n",
    "'''i = 0\n",
    "while i + batch_size + sequence_size + 1 < len(data):\n",
    "    samples = np.zeros((batch_size, sequence_size, input_height, input_width, channels))\n",
    "    targets = np.zeros((batch_size, num_classes))\n",
    "    for j in range(batch_size):\n",
    "        # some issue with shapes(dummy reshape)\n",
    "        sample = np.zeros((sequence_size, input_height, input_width, channels))\n",
    "        for k, dt in enumerate(data[i + j:i + j + sequence_size, 0]):\n",
    "            sample[k] = dt\n",
    "        samples[j] = sample\n",
    "        targets[j] = to_categorical(get_direction(*data[i + j + sequence_size][1][:2]), num_classes=num_classes)\n",
    "    i += batch_size\n",
    "    yield samples, targets'''"
   ]
  },
  {
   "cell_type": "code",
   "execution_count": null,
   "metadata": {},
   "outputs": [],
   "source": []
  },
  {
   "cell_type": "code",
   "execution_count": null,
   "metadata": {},
   "outputs": [],
   "source": []
  }
 ],
 "metadata": {
  "kernelspec": {
   "display_name": "Python 3",
   "language": "python",
   "name": "python3"
  },
  "language_info": {
   "codemirror_mode": {
    "name": "ipython",
    "version": 3
   },
   "file_extension": ".py",
   "mimetype": "text/x-python",
   "name": "python",
   "nbconvert_exporter": "python",
   "pygments_lexer": "ipython3",
   "version": "3.6.4"
  }
 },
 "nbformat": 4,
 "nbformat_minor": 2
}

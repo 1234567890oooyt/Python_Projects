{
 "cells": [
  {
   "cell_type": "code",
   "execution_count": 1,
   "metadata": {},
   "outputs": [],
   "source": [
    "sequence_size = 15\n",
    "input_width = 160\n",
    "input_height = 100\n",
    "channels = 3\n",
    "class_number = 12\n",
    "model_name = 'models//worm_sequence30_3.h5'"
   ]
  },
  {
   "cell_type": "code",
   "execution_count": 2,
   "metadata": {},
   "outputs": [
    {
     "name": "stderr",
     "output_type": "stream",
     "text": [
      "Using TensorFlow backend.\n"
     ]
    },
    {
     "name": "stdout",
     "output_type": "stream",
     "text": [
      "_________________________________________________________________\n",
      "Layer (type)                 Output Shape              Param #   \n",
      "=================================================================\n",
      "time_distributed_1 (TimeDist (None, None, 4096)        240832    \n",
      "_________________________________________________________________\n",
      "gru_1 (GRU)                  (None, None, 128)         1622400   \n",
      "_________________________________________________________________\n",
      "gru_2 (GRU)                  (None, 128)               98688     \n",
      "_________________________________________________________________\n",
      "dense_1 (Dense)              (None, 12)                1548      \n",
      "=================================================================\n",
      "Total params: 1,963,468\n",
      "Trainable params: 1,963,468\n",
      "Non-trainable params: 0\n",
      "_________________________________________________________________\n"
     ]
    }
   ],
   "source": [
    "from keras.models import load_model\n",
    "import keras.backend as K\n",
    "def actual_acc(y_true, y_pred):\n",
    "    return K.equal(K.argmax(y_pred), K.argmax(y_true))\n",
    "\n",
    "model = load_model(model_name, custom_objects={'actual_acc':actual_acc})\n",
    "model.summary()"
   ]
  },
  {
   "cell_type": "code",
   "execution_count": 4,
   "metadata": {
    "scrolled": true
   },
   "outputs": [
    {
     "ename": "TypeError",
     "evalue": "'Image' object does not support indexing",
     "output_type": "error",
     "traceback": [
      "\u001b[1;31m---------------------------------------------------------------------------\u001b[0m",
      "\u001b[1;31mTypeError\u001b[0m                                 Traceback (most recent call last)",
      "\u001b[1;32m<ipython-input-4-7db7cfaf62a2>\u001b[0m in \u001b[0;36m<module>\u001b[1;34m()\u001b[0m\n\u001b[0;32m     23\u001b[0m \u001b[1;33m\u001b[0m\u001b[0m\n\u001b[0;32m     24\u001b[0m \u001b[0mimg\u001b[0m \u001b[1;33m=\u001b[0m \u001b[0mImageGrab\u001b[0m\u001b[1;33m.\u001b[0m\u001b[0mgrab\u001b[0m\u001b[1;33m(\u001b[0m\u001b[1;33m)\u001b[0m\u001b[1;33m\u001b[0m\u001b[0m\n\u001b[1;32m---> 25\u001b[1;33m \u001b[0mscr_W\u001b[0m\u001b[1;33m,\u001b[0m \u001b[0mscr_H\u001b[0m \u001b[1;33m=\u001b[0m \u001b[0mlen\u001b[0m\u001b[1;33m(\u001b[0m\u001b[0mimg\u001b[0m\u001b[1;33m[\u001b[0m\u001b[1;36m0\u001b[0m\u001b[1;33m]\u001b[0m\u001b[1;33m)\u001b[0m\u001b[1;33m,\u001b[0m \u001b[0mlen\u001b[0m\u001b[1;33m(\u001b[0m\u001b[0mimg\u001b[0m\u001b[1;33m)\u001b[0m\u001b[1;33m\u001b[0m\u001b[0m\n\u001b[0m\u001b[0;32m     26\u001b[0m \u001b[1;33m\u001b[0m\u001b[0m\n\u001b[0;32m     27\u001b[0m \u001b[1;33m\u001b[0m\u001b[0m\n",
      "\u001b[1;31mTypeError\u001b[0m: 'Image' object does not support indexing"
     ]
    }
   ],
   "source": [
    "from screen_consts import WIDTH, HEIGHT, get_coordinates_from_direction\n",
    "from PIL import ImageGrab\n",
    "from image_preproc import get_preprocessed_and_map\n",
    "from getkeys import key_check\n",
    "from image_preproc import prepare_image\n",
    "import win32api, win32con\n",
    "import time\n",
    "import numpy as np\n",
    "from IPython.display import clear_output\n",
    "\n",
    "def mouse_down(x,y):\n",
    "    win32api.SetCursorPos((x,y))\n",
    "    win32api.mouse_event(win32con.MOUSEEVENTF_LEFTDOWN, x, y, 0, 0)\n",
    "\n",
    "def mouse_up(x, y):\n",
    "    win32api.SetCursorPos((x, y))\n",
    "    win32api.mouse_event(win32con.MOUSEEVENTF_LEFTUP, x, y, 0, 0)\n",
    "\n",
    "def get_frame_data():\n",
    "    img = ImageGrab.grab()    \n",
    "    prepocessed, minimap = get_preprocessed_and_map(np.array(img))\n",
    "    return prepocessed, minimap\n",
    "\n",
    "img = np.array(ImageGrab.grab())\n",
    "scr_W, scr_H = len(img[0]), len(img)\n",
    "\n",
    "\n",
    "print(\"Start/Pause action with Alt+T\")\n",
    "paused = True\n",
    "\n",
    "sequence = np.zeros((sequence_size, input_height, input_width, channels))\n",
    "for i in range(sequence_size):\n",
    "    sequence[i],_ = get_frame_data()\n",
    "    \n",
    "while True:\n",
    "    keys = key_check()\n",
    "    if \"ALT\" in keys and \"T\" in keys:\n",
    "        paused ^= 1\n",
    "        if paused:\n",
    "            print(\"Stop action, press Alt+T to continue\")\n",
    "        else:\n",
    "            print(\"Start action in 3 sec.\")\n",
    "            for i in list(range(3))[::-1]:\n",
    "                time.sleep(1)\n",
    "                print(i + 1)\n",
    "            print(\"action!\")\n",
    "        time.sleep(1)\n",
    "    if \"C\" in keys:\n",
    "        offset = -75\n",
    "        mouse_up(scr_W//2, scr_H//2+offset)\n",
    "        mouse_down(scr_W//2, scr_H//2+offset)\n",
    "        mouse_up(scr_W//2, scr_H//2+offset)\n",
    "        \n",
    "    img, _ = get_frame_data()\n",
    "    sequence = np.concatenate((sequence[1:], img.reshape(1,input_height, input_width,channels)))\n",
    "        \n",
    "    if not paused:                \n",
    "        sequence_reshaped = sequence.reshape(-1, sequence_size, input_height, input_width, channels)\n",
    "        #print(model.predict(sequence_reshaped))\n",
    "        prediction = np.argmax(model.predict(sequence_reshaped))\n",
    "        x, y = get_coordinates_from_direction(prediction, scr_W, scr_H, class_number)\n",
    "        mouse_up(x, y)\n",
    "        #print(np.round(model.predict(prep_img), 2), prediction)\n"
   ]
  },
  {
   "cell_type": "markdown",
   "metadata": {},
   "source": [
    "# VIEW INPUT"
   ]
  },
  {
   "cell_type": "code",
   "execution_count": null,
   "metadata": {},
   "outputs": [],
   "source": [
    "%matplotlib notebook\n",
    "import cv2\n",
    "import matplotlib.pyplot as plt\n",
    "from matplotlib.animation import FuncAnimation\n",
    "\n",
    "def grab_frame(channel):\n",
    "    return prepare_image(preproc_img(grab_screen())).reshape(HEIGHT, WIDTH,2)[:,:,channel]\n",
    "\n",
    "#create two subplots\n",
    "gridsize = (2, 1)\n",
    "fig = plt.figure(figsize=(6, 8))\n",
    "ax1 = plt.subplot2grid(gridsize, (0, 0))\n",
    "ax2 = plt.subplot2grid(gridsize, (1, 0))\n",
    "\n",
    "#create two image plots\n",
    "im1 = ax1.imshow(grab_frame(0), cmap='Greys_r')\n",
    "im2 = ax2.imshow(grab_frame(1), cmap='Greys_r')\n",
    "\n",
    "def update(i):    \n",
    "    im1.set_data(grab_frame(0))\n",
    "    im2.set_data(grab_frame(1))\n",
    "\n",
    "ani = FuncAnimation(plt.gcf(), update, interval=10)\n",
    "plt.show()"
   ]
  },
  {
   "cell_type": "code",
   "execution_count": null,
   "metadata": {},
   "outputs": [],
   "source": []
  }
 ],
 "metadata": {
  "kernelspec": {
   "display_name": "Python 3",
   "language": "python",
   "name": "python3"
  },
  "language_info": {
   "codemirror_mode": {
    "name": "ipython",
    "version": 3
   },
   "file_extension": ".py",
   "mimetype": "text/x-python",
   "name": "python",
   "nbconvert_exporter": "python",
   "pygments_lexer": "ipython3",
   "version": "3.6.4"
  }
 },
 "nbformat": 4,
 "nbformat_minor": 2
}

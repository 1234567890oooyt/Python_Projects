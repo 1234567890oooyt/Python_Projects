{
 "cells": [
  {
   "cell_type": "code",
   "execution_count": 1,
   "metadata": {},
   "outputs": [],
   "source": [
    "input_width = 160\n",
    "input_height = 100\n",
    "class_number = 12"
   ]
  },
  {
   "cell_type": "code",
   "execution_count": 2,
   "metadata": {},
   "outputs": [
    {
     "name": "stderr",
     "output_type": "stream",
     "text": [
      "Q:\\Program Files\\Anaconda3\\lib\\site-packages\\h5py\\__init__.py:36: FutureWarning: Conversion of the second argument of issubdtype from `float` to `np.floating` is deprecated. In future, it will be treated as `np.float64 == np.dtype(float).type`.\n",
      "  from ._conv import register_converters as _register_converters\n",
      "Using TensorFlow backend.\n"
     ]
    },
    {
     "name": "stdout",
     "output_type": "stream",
     "text": [
      "_________________________________________________________________\n",
      "Layer (type)                 Output Shape              Param #   \n",
      "=================================================================\n",
      "conv2d_1 (Conv2D)            (None, 98, 158, 32)       1472      \n",
      "_________________________________________________________________\n",
      "max_pooling2d_1 (MaxPooling2 (None, 49, 79, 32)        0         \n",
      "_________________________________________________________________\n",
      "conv2d_2 (Conv2D)            (None, 47, 77, 64)        18496     \n",
      "_________________________________________________________________\n",
      "max_pooling2d_2 (MaxPooling2 (None, 23, 38, 64)        0         \n",
      "_________________________________________________________________\n",
      "conv2d_3 (Conv2D)            (None, 21, 36, 128)       73856     \n",
      "_________________________________________________________________\n",
      "max_pooling2d_3 (MaxPooling2 (None, 10, 18, 128)       0         \n",
      "_________________________________________________________________\n",
      "conv2d_4 (Conv2D)            (None, 8, 16, 128)        147584    \n",
      "_________________________________________________________________\n",
      "max_pooling2d_4 (MaxPooling2 (None, 4, 8, 128)         0         \n",
      "_________________________________________________________________\n",
      "flatten_1 (Flatten)          (None, 4096)              0         \n",
      "_________________________________________________________________\n",
      "dropout_1 (Dropout)          (None, 4096)              0         \n",
      "_________________________________________________________________\n",
      "dense_1 (Dense)              (None, 512)               2097664   \n",
      "_________________________________________________________________\n",
      "dense_2 (Dense)              (None, 12)                6156      \n",
      "=================================================================\n",
      "Total params: 2,345,228\n",
      "Trainable params: 2,345,228\n",
      "Non-trainable params: 0\n",
      "_________________________________________________________________\n"
     ]
    }
   ],
   "source": [
    "from keras.models import load_model\n",
    "import keras.backend as K\n",
    "def actual_acc(y_true, y_pred):\n",
    "    return K.equal(K.argmax(y_pred), K.argmax(y_true))\n",
    "\n",
    "model = load_model('models/worm_single_adam_5ch_1.h5',custom_objects={'actual_acc':actual_acc})\n",
    "model.summary()"
   ]
  },
  {
   "cell_type": "code",
   "execution_count": 3,
   "metadata": {
    "scrolled": true
   },
   "outputs": [
    {
     "name": "stdout",
     "output_type": "stream",
     "text": [
      "Start/Pause action with Alt+T\n"
     ]
    },
    {
     "ename": "ValueError",
     "evalue": "cannot reshape array of size 80000 into shape (100,160,3)",
     "output_type": "error",
     "traceback": [
      "\u001b[1;31m---------------------------------------------------------------------------\u001b[0m",
      "\u001b[1;31mValueError\u001b[0m                                Traceback (most recent call last)",
      "\u001b[1;32m<ipython-input-3-bd9f36c0748b>\u001b[0m in \u001b[0;36m<module>\u001b[1;34m()\u001b[0m\n\u001b[0;32m     50\u001b[0m         \u001b[0mmouse_up\u001b[0m\u001b[1;33m(\u001b[0m\u001b[0mscr_W\u001b[0m\u001b[1;33m//\u001b[0m\u001b[1;36m2\u001b[0m\u001b[1;33m,\u001b[0m \u001b[0mscr_H\u001b[0m\u001b[1;33m//\u001b[0m\u001b[1;36m2\u001b[0m\u001b[1;33m+\u001b[0m\u001b[0moffset\u001b[0m\u001b[1;33m)\u001b[0m\u001b[1;33m\u001b[0m\u001b[0m\n\u001b[0;32m     51\u001b[0m \u001b[1;33m\u001b[0m\u001b[0m\n\u001b[1;32m---> 52\u001b[1;33m     \u001b[0mimg\u001b[0m \u001b[1;33m=\u001b[0m \u001b[0mget_image\u001b[0m\u001b[1;33m(\u001b[0m\u001b[1;33m)\u001b[0m\u001b[1;33m.\u001b[0m\u001b[0mreshape\u001b[0m\u001b[1;33m(\u001b[0m\u001b[1;33m-\u001b[0m\u001b[1;36m1\u001b[0m\u001b[1;33m,\u001b[0m\u001b[0minput_height\u001b[0m\u001b[1;33m,\u001b[0m \u001b[0minput_width\u001b[0m\u001b[1;33m,\u001b[0m\u001b[1;36m3\u001b[0m\u001b[1;33m)\u001b[0m\u001b[1;33m/\u001b[0m\u001b[1;36m255\u001b[0m\u001b[1;33m\u001b[0m\u001b[0m\n\u001b[0m\u001b[0;32m     53\u001b[0m \u001b[1;33m\u001b[0m\u001b[0m\n\u001b[0;32m     54\u001b[0m     \u001b[1;32mif\u001b[0m \u001b[1;32mnot\u001b[0m \u001b[0mpaused\u001b[0m\u001b[1;33m:\u001b[0m\u001b[1;33m\u001b[0m\u001b[0m\n",
      "\u001b[1;31mValueError\u001b[0m: cannot reshape array of size 80000 into shape (100,160,3)"
     ]
    }
   ],
   "source": [
    "from screen_consts import WIDTH, HEIGHT, get_coordinates_from_direction\n",
    "from grabscreen import grab_screen\n",
    "from image_preproc import preproc_img\n",
    "from getkeys import key_check\n",
    "from image_preproc import prepare_image\n",
    "import win32api, win32con\n",
    "import time\n",
    "import numpy as np\n",
    "\n",
    "def mouse_down(x,y):\n",
    "    win32api.SetCursorPos((x,y))\n",
    "    win32api.mouse_event(win32con.MOUSEEVENTF_LEFTDOWN, x, y, 0, 0)\n",
    "\n",
    "def mouse_up(x, y):\n",
    "    win32api.SetCursorPos((x, y))\n",
    "    win32api.mouse_event(win32con.MOUSEEVENTF_LEFTUP, x, y, 0, 0)\n",
    "\n",
    "def get_image():\n",
    "    img = grab_screen()\n",
    "    img = preproc_img(img)\n",
    "    img = np.dstack((img,\n",
    "                     prepare_image(img)))    \n",
    "    return img\n",
    "\n",
    "class_number = 12\n",
    "img = grab_screen()\n",
    "scr_W, scr_H = len(img[0]), len(img)\n",
    "\n",
    "\n",
    "print(\"Start/Pause action with Alt+T\")\n",
    "paused = True\n",
    "    \n",
    "while True:\n",
    "    keys = key_check()\n",
    "    if \"ALT\" in keys and \"T\" in keys:\n",
    "        paused ^= 1\n",
    "        if paused:\n",
    "            print(\"Stop action, press Alt+T to continue\")\n",
    "        else:\n",
    "            print(\"Start action in 3 sec.\")\n",
    "            for i in list(range(3))[::-1]:\n",
    "                time.sleep(1)\n",
    "                print(i + 1)\n",
    "            print(\"action!\")\n",
    "        time.sleep(1)\n",
    "    if \"C\" in keys:\n",
    "        offset = -70\n",
    "        mouse_up(scr_W//2, scr_H//2+offset)\n",
    "        mouse_down(scr_W//2, scr_H//2+offset)\n",
    "        mouse_up(scr_W//2, scr_H//2+offset)\n",
    "        \n",
    "    img = get_image().reshape(-1,input_height, input_width,5)/255\n",
    "        \n",
    "    if not paused:              \n",
    "        prediction_raw = model.predict(img)\n",
    "        prediction = np.argmax(prediction_raw)\n",
    "        x, y = get_coordinates_from_direction(prediction, scr_W, scr_H, class_number)\n",
    "        mouse_up(x, y)\n",
    "        #print(np.round(model.predict(prep_img), 2), prediction)\n"
   ]
  },
  {
   "cell_type": "markdown",
   "metadata": {},
   "source": [
    "# VIEW INPUT"
   ]
  },
  {
   "cell_type": "code",
   "execution_count": null,
   "metadata": {},
   "outputs": [],
   "source": [
    "%matplotlib notebook\n",
    "import cv2\n",
    "import matplotlib.pyplot as plt\n",
    "from matplotlib.animation import FuncAnimation\n",
    "\n",
    "def grab_frame():\n",
    "    return get_image()\n",
    "\n",
    "#create two subplots\n",
    "gridsize = (2, 1)\n",
    "fig = plt.figure(figsize=(6, 8))\n",
    "ax1 = plt.subplot2grid(gridsize, (0, 0))\n",
    "\n",
    "#create two image plots\n",
    "im1 = ax1.imshow(grab_frame(), cmap='Greys_r')\n",
    "\n",
    "def update(i):    \n",
    "    im1.set_data(grab_frame())\n",
    "\n",
    "ani = FuncAnimation(plt.gcf(), update, interval=10)\n",
    "plt.show()"
   ]
  },
  {
   "cell_type": "code",
   "execution_count": null,
   "metadata": {},
   "outputs": [],
   "source": []
  }
 ],
 "metadata": {
  "kernelspec": {
   "display_name": "Python 3",
   "language": "python",
   "name": "python3"
  },
  "language_info": {
   "codemirror_mode": {
    "name": "ipython",
    "version": 3
   },
   "file_extension": ".py",
   "mimetype": "text/x-python",
   "name": "python",
   "nbconvert_exporter": "python",
   "pygments_lexer": "ipython3",
   "version": "3.6.4"
  }
 },
 "nbformat": 4,
 "nbformat_minor": 2
}

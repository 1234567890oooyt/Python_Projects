{
 "cells": [
  {
   "cell_type": "code",
   "execution_count": 2,
   "metadata": {},
   "outputs": [
    {
     "data": {
      "text/plain": [
       "array([[101],\n",
       "       [102],\n",
       "       [103]])"
      ]
     },
     "execution_count": 2,
     "metadata": {},
     "output_type": "execute_result"
    }
   ],
   "source": [
    "import numpy as np\n",
    "a = np.array([ [100],\n",
    "               [101],\n",
    "               [102],\n",
    "               [103],\n",
    "               [104],\n",
    "               [105],\n",
    "               [106],\n",
    "               [107],\n",
    "               [108],\n",
    "               [109]])\n",
    "\n",
    "a.take([1,2,3], axis=0)"
   ]
  },
  {
   "cell_type": "code",
   "execution_count": 30,
   "metadata": {},
   "outputs": [],
   "source": [
    "from keras import models, layers, optimizers\n",
    "model = models.Sequential()\n",
    "model.add(layers.Dense(3, activation='relu', input_shape=(3,)))\n",
    "model.add(layers.Dense(3, activation='sigmoid'))#, kernel_initializer='zeros', bias_initializer='zeros'))\n",
    "model.compile(optimizers.Adam(lr=0.01),loss='mse')"
   ]
  },
  {
   "cell_type": "code",
   "execution_count": 31,
   "metadata": {
    "scrolled": true
   },
   "outputs": [
    {
     "data": {
      "text/plain": [
       "array([[0.49996555, 0.49831614, 0.5038847 ]], dtype=float32)"
      ]
     },
     "execution_count": 31,
     "metadata": {},
     "output_type": "execute_result"
    }
   ],
   "source": [
    "import numpy as np\n",
    "#model.fit(np.array([[1,2,5]]),np.array([[1,1,1]]), epochs=40)\n",
    "model.predict(np.array([1,2,5]).reshape(-1,3))"
   ]
  },
  {
   "cell_type": "code",
   "execution_count": null,
   "metadata": {},
   "outputs": [],
   "source": []
  },
  {
   "cell_type": "code",
   "execution_count": null,
   "metadata": {},
   "outputs": [],
   "source": []
  },
  {
   "cell_type": "code",
   "execution_count": 17,
   "metadata": {
    "scrolled": false
   },
   "outputs": [
    {
     "ename": "NameError",
     "evalue": "name 'ParallelEnvironment' is not defined",
     "output_type": "error",
     "traceback": [
      "\u001b[1;31m---------------------------------------------------------------------------\u001b[0m",
      "\u001b[1;31mNameError\u001b[0m                                 Traceback (most recent call last)",
      "\u001b[1;32m<ipython-input-17-b39479cd2bd4>\u001b[0m in \u001b[0;36m<module>\u001b[1;34m()\u001b[0m\n\u001b[0;32m      3\u001b[0m \u001b[0mvelocity_alpha\u001b[0m\u001b[1;33m=\u001b[0m\u001b[1;36m0.01\u001b[0m\u001b[1;33m\u001b[0m\u001b[0m\n\u001b[0;32m      4\u001b[0m \u001b[0menv_name\u001b[0m\u001b[1;33m=\u001b[0m\u001b[1;34m\"CartPole-v1\"\u001b[0m\u001b[1;33m\u001b[0m\u001b[0m\n\u001b[1;32m----> 5\u001b[1;33m \u001b[0mp_env\u001b[0m \u001b[1;33m=\u001b[0m \u001b[0mParallelEnvironment\u001b[0m\u001b[1;33m(\u001b[0m\u001b[0menv_name\u001b[0m\u001b[1;33m,\u001b[0m \u001b[0mnum_envs\u001b[0m\u001b[1;33m,\u001b[0m\u001b[0mNotDisplay\u001b[0m\u001b[1;33m)\u001b[0m\u001b[1;33m\u001b[0m\u001b[0m\n\u001b[0m\u001b[0;32m      6\u001b[0m \u001b[1;33m\u001b[0m\u001b[0m\n\u001b[0;32m      7\u001b[0m \u001b[0mparams\u001b[0m\u001b[1;33m=\u001b[0m\u001b[1;33m[\u001b[0m\u001b[1;33m]\u001b[0m\u001b[1;33m\u001b[0m\u001b[0m\n",
      "\u001b[1;31mNameError\u001b[0m: name 'ParallelEnvironment' is not defined"
     ]
    }
   ],
   "source": [
    "num_envs = 10\n",
    "NotDisplay=False\n",
    "velocity_alpha=0.01\n",
    "env_name=\"CartPole-v1\"\n",
    "p_env = ParallelEnvironment(env_name, num_envs,NotDisplay)\n",
    "\n",
    "params=[]\n",
    "best_params=[]\n",
    "best_returns=[]\n",
    "best_pos=0\n",
    "velocity=[]\n",
    "iter_cnt=0\n",
    "inertia=1\n",
    "cognitive=1\n",
    "social=1\n",
    "\n",
    "for i in range(num_envs):\n",
    "    params.append(np.random.uniform(-1,1,4))\n",
    "    best_returns.append(0)\n",
    "    best_params.append(np.array([0 for i in range(4)]))\n",
    "    velocity.append(np.array([0.0 for i in range(4)]))\n",
    "\n",
    "while True:\n",
    "    returns=p_env.episode(params)\n",
    "    iter_cnt+=1\n",
    "\n",
    "    #Output of the batch episode.\n",
    "    print (\"Number of batch episodes ran -> \",iter_cnt)\n",
    "    print (\"Parameter for the batch for last episode ->\") \n",
    "    print (np.around(params,3))\n",
    "    print (\"Best Parameters for the batch for all episodes ->\")\n",
    "    print (np.around(best_params,3))\n",
    "    print (\"Returns for the batch for last episode -> \",returns)\n",
    "    print (\"Returns for the batch for all episodes -> \",best_returns)\n",
    "    print (\"Rate of change of parameters for the batch -> \")\n",
    "    print (np.around(velocity,3))\n",
    "\n",
    "    #Exit condition\n",
    "    if returns==best_returns:\n",
    "        print (\"Batch converged after {} iterations.\".format(iter_cnt))\n",
    "        p_env.__del__()\n",
    "\n",
    "        # Run a final episode using the average of all the final parameters\n",
    "        p_start, p_end = Pipe()\n",
    "        env_worker = EnvWorker(\"CartPole-v1\", p_end, name=\"Worker\",NotDisplay=True,delay=0.02)\n",
    "        env_worker.start()\n",
    "        p_start.send(np.sum(best_params,axis=0)/num_envs)\n",
    "        episode_return = p_start.recv()\n",
    "        print (\"Reward for the final episode ->\", episode_return)\n",
    "        p_start.send(\"EXIT\")\n",
    "        env_worker.terminate()\n",
    "\n",
    "    # update according to PSO algorithm\t\t\n",
    "    for i in range(num_envs):\n",
    "        if(returns[i]>=best_returns[i]):\n",
    "            best_returns[i]=returns[i]\n",
    "            best_params[i]=params[i]\n",
    "\n",
    "    best_pos=returns.index(max(returns))\n",
    "\n",
    "    for i in range(num_envs):\n",
    "        velocity[i]=(inertia*velocity[i]\n",
    "            +cognitive*np.random.uniform(0,velocity_alpha)*(best_params[i]-params[i])\n",
    "            +social*np.random.uniform(0,velocity_alpha)*(best_params[best_pos]-params[i]))\n",
    "        params[i]+=velocity[i]\n",
    "    pass"
   ]
  },
  {
   "cell_type": "code",
   "execution_count": null,
   "metadata": {},
   "outputs": [],
   "source": []
  }
 ],
 "metadata": {
  "kernelspec": {
   "display_name": "Python 3",
   "language": "python",
   "name": "python3"
  },
  "language_info": {
   "codemirror_mode": {
    "name": "ipython",
    "version": 3
   },
   "file_extension": ".py",
   "mimetype": "text/x-python",
   "name": "python",
   "nbconvert_exporter": "python",
   "pygments_lexer": "ipython3",
   "version": "3.6.5"
  }
 },
 "nbformat": 4,
 "nbformat_minor": 2
}

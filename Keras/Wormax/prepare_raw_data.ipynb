{
 "cells": [
  {
   "cell_type": "markdown",
   "metadata": {},
   "source": [
    "# Filter out looses from the data (and second after)"
   ]
  },
  {
   "cell_type": "code",
   "execution_count": 1,
   "metadata": {},
   "outputs": [],
   "source": [
    "# Average fps is 30\n",
    "min_sequence_size = 30\n",
    "delete_frames_before_death = 45\n",
    "delete_frames_after_death = 30"
   ]
  },
  {
   "cell_type": "code",
   "execution_count": 2,
   "metadata": {},
   "outputs": [],
   "source": [
    "# Is dead check invariant\n",
    "def is_dead(frame):\n",
    "    return np.min(frame[0][1][0:8,0:30]) == 0 and np.var(frame[0][1][0:8,0:30]) > 4800 and \\\n",
    "           np.max(frame[0][1][0:8,0:30]) >= 248 or np.mean(frame[0][1][17:20, 15:20]) == 48.8\n",
    "    \n",
    "deaths = 0\n",
    "deleted = 0\n",
    "def process_data(data):\n",
    "    global deleted, deaths\n",
    "    processed = []\n",
    "    d = is_dead(data[0])\n",
    "    dur = 0\n",
    "    spawn_i = 0\n",
    "    for i in range(1, len(data)):\n",
    "        dead = is_dead(data[i])\n",
    "        # Detect death\n",
    "        if (not d) and dead:\n",
    "            d = True\n",
    "        # Count duration of death\n",
    "        elif d and dead:\n",
    "            dur += 1\n",
    "        # Detect spawn\n",
    "        elif d and not dead:\n",
    "            if dur > 10:\n",
    "                deaths += 1\n",
    "                if spawn_i == 0:\n",
    "                    if i-dur-delete_frames_before_death > 0 + min_sequence_size:\n",
    "                        processed.append(data[0:i+1-dur-delete_frames_before_death])\n",
    "                else:\n",
    "                    if i-spawn_i-dur-delete_frames_before_death-delete_frames_after_death > min_sequence_size:\n",
    "                        processed.append(data[spawn_i+delete_frames_after_death:i+1-dur-delete_frames_before_death])           \n",
    "                spawn_i = i\n",
    "                \n",
    "            dur = 0\n",
    "            d = False\n",
    "        elif i==len(data)-1:\n",
    "            start_point = 0 if spawn_i==0 else spawn_i+delete_frames_after_death\n",
    "            if i-start_point > min_sequence_size:\n",
    "                processed.append(data[start_point:i+1])   \n",
    "                \n",
    "    frames_saved = sum([len(i) for i in processed])\n",
    "    deleted += len(data) - frames_saved\n",
    "    return processed, frames_saved"
   ]
  },
  {
   "cell_type": "code",
   "execution_count": 3,
   "metadata": {
    "scrolled": false
   },
   "outputs": [
    {
     "name": "stdout",
     "output_type": "stream",
     "text": [
      "Processing frame-0-10000.npy \t1/43\n",
      "Processing frame-10000-11033.npy \t2/43\n",
      "Processing frame-108890-118890.npy \t3/43\n",
      "Processing frame-11033-16850.npy \t4/43\n",
      "Processing frame-118890-128890.npy \t5/43\n",
      "Processing frame-128890-138890.npy \t6/43\n",
      "Processing frame-138890-148890.npy \t7/43\n",
      "Processing frame-148890-158890.npy \t8/43\n",
      "Processing frame-158890-168890.npy \t9/43\n",
      "Processing frame-16850-18890.npy \t10/43\n",
      "Processing frame-168890-178890.npy \t11/43\n",
      "Processing frame-178890-179289.npy \t12/43\n",
      "Processing frame-179289-189289.npy \t13/43\n",
      "Processing frame-18890-28890.npy \t14/43\n",
      "Processing frame-189289-199289.npy \t15/43\n",
      "Processing frame-199289-209289.npy \t16/43\n",
      "Processing frame-209289-219289.npy \t17/43\n",
      "Processing frame-219289-229289.npy \t18/43\n",
      "Processing frame-229289-239289.npy \t19/43\n",
      "Processing frame-239289-249289.npy \t20/43\n",
      "Processing frame-249289-258235.npy \t21/43\n",
      "Processing frame-258235-268235.npy \t22/43\n",
      "Processing frame-268235-278235.npy \t23/43\n",
      "Processing frame-278235-288235.npy \t24/43\n",
      "Processing frame-288235-298235.npy \t25/43\n",
      "Processing frame-28890-38890.npy \t26/43\n",
      "Processing frame-298235-308235.npy \t27/43\n",
      "Processing frame-308235-315245.npy \t28/43\n",
      "Processing frame-315245-325245.npy \t29/43\n",
      "Processing frame-325245-335245.npy \t30/43\n",
      "Processing frame-335245-345245.npy \t31/43\n",
      "Processing frame-345245-354424.npy \t32/43\n",
      "Processing frame-354424-355271.npy \t33/43\n",
      "Processing frame-355271-365271.npy \t34/43\n",
      "Processing frame-365271-375271.npy \t35/43\n",
      "Processing frame-375271-384438.npy \t36/43\n",
      "Processing frame-38890-48890.npy \t37/43\n",
      "Processing frame-48890-58890.npy \t38/43\n",
      "Processing frame-58890-68890.npy \t39/43\n",
      "Processing frame-68890-78890.npy \t40/43\n",
      "Processing frame-78890-88890.npy \t41/43\n",
      "Processing frame-88890-98890.npy \t42/43\n",
      "Processing frame-98890-108890.npy \t43/43\n"
     ]
    }
   ],
   "source": [
    "import numpy as np\n",
    "import os\n",
    "\n",
    "data_input_path = \"D:\\\\Python\\\\Keras\\\\Wormax\\\\data\\\\\"\n",
    "data_output_path = \"D:\\\\Python\\\\Keras\\\\Wormax\\\\data_prepared\\\\\"\n",
    "list_dir = list(filter(lambda x: os.path.isfile, os.listdir(data_input_path)))\n",
    "\n",
    "frames_counter = 0\n",
    "for i, file_name in enumerate(list_dir):\n",
    "    print('Processing', file_name, '\\t{}/{}'.format(i+1, len(list_dir)))\n",
    "    data = np.load(data_input_path + file_name)\n",
    "    processed, frames_saved = process_data(data)\n",
    "    if len(processed) != 0:\n",
    "        np.save(data_output_path + \"prepared_frame-{}-{}.npy\".format(frames_counter, frames_counter + frames_saved), processed)\n",
    "        frames_counter += frames_saved"
   ]
  },
  {
   "cell_type": "code",
   "execution_count": 5,
   "metadata": {},
   "outputs": [
    {
     "name": "stdout",
     "output_type": "stream",
     "text": [
      "361\n"
     ]
    }
   ],
   "source": [
    "print(deaths)\n",
    "# 361 12"
   ]
  },
  {
   "cell_type": "code",
   "execution_count": null,
   "metadata": {},
   "outputs": [],
   "source": []
  }
 ],
 "metadata": {
  "kernelspec": {
   "display_name": "Python [default]",
   "language": "python",
   "name": "python3"
  },
  "language_info": {
   "codemirror_mode": {
    "name": "ipython",
    "version": 3
   },
   "file_extension": ".py",
   "mimetype": "text/x-python",
   "name": "python",
   "nbconvert_exporter": "python",
   "pygments_lexer": "ipython3",
   "version": "3.6.5"
  }
 },
 "nbformat": 4,
 "nbformat_minor": 2
}

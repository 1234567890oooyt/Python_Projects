{
 "cells": [
  {
   "cell_type": "code",
   "execution_count": null,
   "metadata": {
    "collapsed": true
   },
   "outputs": [],
   "source": [
    "import numpy as np\n",
    "import matplotlib.pyplot as plt\n",
    "from mpl_toolkits.mplot3d import Axes3D\n",
    "import tflearn\n",
    "from tflearn.layers.core import input_data, dropout, fully_connected\n",
    "from tflearn.layers.estimator import regression\n",
    "\n",
    "MODEL_NAME = \"Simple-{}\".format(0)\n",
    "\n",
    "def build_model(input, output, lr):\n",
    "    network = input_data(shape=[None, input], name='input')\n",
    "    network = fully_connected(network, 10, activation='sigmoid')\n",
    "    network = fully_connected(network, 10, activation='sigmoid')\n",
    "    network = fully_connected(network, output, activation='sigmoid')\n",
    "    network = regression(network, optimizer='momentum',\n",
    "                         loss='mean_square',\n",
    "                         learning_rate=lr, name='targets')\n",
    "\n",
    "    model = tflearn.DNN(network, checkpoint_path='model',\n",
    "                        max_checkpoints=1, tensorboard_verbose=0, tensorboard_dir='log')\n",
    "    return model\n",
    "\n",
    "X = [[0,0],[0,1],[1,0],[1,1]]\n",
    "y = [1,0,0,1]\n",
    "\n",
    "model = build_model(2,1,0.01)\n",
    "model.fit({'input': X}, {'targets': y}, n_epoch=1,\n",
    "    snapshot_step=500, show_metric=True, run_id=MODEL_NAME)\n",
    "\n",
    "X_test = np.array([ [i,j] for j in np.arange(0,1,0.1) for i in np.arange(0,1,0.1)])\n",
    "\n",
    "fig = plt.figure()\n",
    "ax = fig.add_subplot(111,projection='3d')\n",
    "ax.scatter(X_test[:,0],X_test[:,1],clf.predict(X_test))\n",
    "plt.show()\n"
   ]
  }
 ],
 "metadata": {
  "kernelspec": {
   "display_name": "Python 3",
   "language": "python",
   "name": "python3"
  },
  "language_info": {
   "codemirror_mode": {
    "name": "ipython",
    "version": 3
   },
   "file_extension": ".py",
   "mimetype": "text/x-python",
   "name": "python",
   "nbconvert_exporter": "python",
   "pygments_lexer": "ipython3",
   "version": "3.5.3"
  }
 },
 "nbformat": 4,
 "nbformat_minor": 2
}

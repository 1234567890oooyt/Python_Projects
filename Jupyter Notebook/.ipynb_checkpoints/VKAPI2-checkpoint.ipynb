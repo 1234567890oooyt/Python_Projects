{
 "cells": [
  {
   "cell_type": "code",
   "execution_count": 3,
   "metadata": {
    "collapsed": false
   },
   "outputs": [
    {
     "name": "stdout",
     "output_type": "stream",
     "text": [
      "0\n",
      "100\n",
      "200\n",
      "300\n",
      "400\n",
      "500\n",
      "600\n",
      "700\n",
      "800\n",
      "900\n",
      "1000\n",
      "1100\n",
      "1200\n",
      "1300\n",
      "1400\n",
      "1500\n",
      "1600\n",
      "1700\n",
      "1800\n",
      "1900\n",
      "2000\n",
      "2100\n",
      "2200\n",
      "2300\n",
      "2400\n",
      "2500\n",
      "2600\n",
      "2700\n",
      "2800\n",
      "2900\n",
      "3000\n",
      "3100\n",
      "3200\n",
      "3300\n"
     ]
    }
   ],
   "source": [
    "import json\n",
    "import requests\n",
    "\n",
    "posts = []\n",
    "\n",
    "\n",
    "wall_data = requests.get(\"https://api.vk.com/method/wall.get?domain=podslushano_1576&v=5.60&count=100\")\n",
    "posts_response = json.loads(wall_data.text)\n",
    "count = posts_response[\"response\"][\"count\"]\n",
    "\n",
    "for i in range(0, count, 100):\n",
    "    wall_data = requests.get(\"https://api.vk.com/method/wall.get?domain=podslushano_1576&v=5.60&count=100&offset=\"+str(i))\n",
    "    posts_response = json.loads(wall_data.text)\n",
    "    posts = posts + posts_response[\"response\"][\"items\"]\n",
    "    print(i)"
   ]
  },
  {
   "cell_type": "code",
   "execution_count": 14,
   "metadata": {
    "collapsed": false
   },
   "outputs": [
    {
     "data": {
      "text/plain": [
       "12420"
      ]
     },
     "execution_count": 14,
     "metadata": {},
     "output_type": "execute_result"
    }
   ],
   "source": [
    "top_posts = []\n",
    "\n",
    "posts_text = []\n",
    "for post in posts:\n",
    "    if post[\"reposts\"][\"count\"] > repost_max:\n",
    "        id = post[\"id\"]\n",
    "        repost_max = post[\"reposts\"][\"count\"]\n",
    "        \n",
    "id"
   ]
  }
 ],
 "metadata": {
  "anaconda-cloud": {},
  "kernelspec": {
   "display_name": "Python [conda root]",
   "language": "python",
   "name": "conda-root-py"
  },
  "language_info": {
   "codemirror_mode": {
    "name": "ipython",
    "version": 3
   },
   "file_extension": ".py",
   "mimetype": "text/x-python",
   "name": "python",
   "nbconvert_exporter": "python",
   "pygments_lexer": "ipython3",
   "version": "3.5.2"
  }
 },
 "nbformat": 4,
 "nbformat_minor": 0
}

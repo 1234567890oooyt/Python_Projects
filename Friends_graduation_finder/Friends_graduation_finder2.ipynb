{
 "cells": [
  {
   "cell_type": "code",
   "execution_count": 1,
   "metadata": {},
   "outputs": [],
   "source": [
    "friends = ['Лавров Никита']#'Пер Николай', 'Плевокас Янис']#'Абу Аль','Куманяев Сергей','Коваленко Иван','Абрамов Владислав','Балицкий Данила','Шкенёв Пётр','Виноградов Александр','Воронков Александр','Крылов Никита','Башмаков Кирилл','Кирилл Лаврентьев''Погребняк Александра','Панафидин Егор','Яворская Дарья','Алексеева Настя','Иванова Иулита','Розин Даниил','Розин Даня','Вылку Александр','Власов Илья','Сигова Елизавета','Молодкин Максим','Галыгина Таисия','Воробьёва Лина','Светлова Елена','Фрескин Василий','Дёмина Яна','Сладкевич Владислав','Игнатович Екатерина','Гончарова Анна','Лунин Дмитрий','Турчак Валерия','Назаров Михаил','Крадинов Борис','Данилов Александр','Паталова Алиса','Лебедь Иван','Ефимов Даниил','Шадрина Анастасия','Тараканова Ксения','Мозолина Надежда','Бурченко Анна','Широков Владислав','Соломенцева Полина','Большаков Иван','Араманович Александр','Мещеряков Артур','Белахов Гриша','Сапрунов Юрий','Ткачёв Даня','Михайленко Егор','Майер Юрий','Амельченко Глеб','Пилецка Владислава','Анисимова Дина','Туманова Елена','Олинов Дмитрий','Гузь Вася','Макаров Дмитрий','Запаренчук Алексей','Табачников Борис','Васильев Валерий','Олинов Дмитрий','Савинов Александр','Осичева Александра','Иващенко Лев','Плевокас Янис','Кондратенко Дарья','Пучкова Дарья','Яковлева Настя','Кокорев Константин','Куликов Михаил','Баранова Ксения','Васильев Пётр','Кузнецова Анжелика','Солдатова Елизавета','Аммосов Александр','Метс Доминика','Затекин Дмитрий','Елисов Михаил','Кирюхин Алексей','Лозовский Александр','Молодкин Максим','Мазур Денис','Кирюхин Алексей','Решетникова Арина','Халилулин Рафаэль','Гречаная Дарья','Злобина Марианна','Немкова Мария','Луппов Даниил','Бандзеладзе Александр','Алимов Дмитрий','Чеканов Арсений','Циглер Матвей','Барабанова Анна','Кирюхин Алексей','Кадолов Захар','Белахов Григорий','Ивашенко Валерия','Григорьев Антон','Пер Николай','Мурашов Леонид','Матюнин Никита', 'Сладкевич Владислав','Семёнова Тамара','Козлова Варвара','Яковлева Анастасия','Лысикова Александра','Лысикова Анна','Тихая Вита','Коротков Артём','Бузыкина Мария','Кургузова Юлия','Борисова Елизавета','Немкова Мария','Барабанова Анна']\n",
    "output = 'D:\\\\Windows\\\\Desktop\\\\pupils4.html'"
   ]
  },
  {
   "cell_type": "code",
   "execution_count": 2,
   "metadata": {},
   "outputs": [],
   "source": [
    "code = '<HTML><style> \\n\\\n",
    "* { font-family:font-family: \"Lucida Sans Unicode\", \"Lucida Grande\", Sans-Serif;\\n\\\n",
    "}\\n\\\n",
    "table {\\n\\\n",
    "border-collapse: collapse;\\n\\\n",
    "border: 25px solid grey;\\n\\\n",
    "width: 100%;\\n\\\n",
    "border-collapse: collapse;\\n\\\n",
    "}\\n\\\n",
    "th , td {\\n\\\n",
    "border: 1px solid grey;\\n\\\n",
    "}\\n\\\n",
    "tr:hover td {background: #A4C3E5;}\\n\\\n",
    "tr:nth-child(2n) {background: #B8E5A4;}\\n\\\n",
    "</style>'"
   ]
  },
  {
   "cell_type": "code",
   "execution_count": 3,
   "metadata": {
    "scrolled": false
   },
   "outputs": [
    {
     "name": "stdout",
     "output_type": "stream",
     "text": [
      "Searching ВШЭ\n",
      "Searching МГУ\n",
      "Found Лавров Никита on МГУ, Физический факультет, Астрономия (03.05.01) \n",
      "Searching МСХА\n",
      "Searching МЭИ\n",
      "Searching РТУ МИРЭА\n",
      "Found Лавров Никита on РТУ МИРЭА, ИТ, Прикладная математика (01.03.04) \n",
      "Found Лавров Никита on РТУ МИРЭА, ФТИ, Электроника и наноэлектроника (11.03.04) \n",
      "Found Лавров Никита on РТУ МИРЭА, Киб, Мехатроника и робототехника (15.03.06) \n",
      "Searching РУДН\n",
      "Searching МПГУ\n",
      "Found Лавров Никита on МПГУ, Институт иностранных языков, Педагогическое образование (с двумя профилями подготовки) (44.03.05) (Иностранный язык (испанский) и Иностранный язык (английский)) \n",
      "Found Лавров Никита on МПГУ, Институт международного образования, Педагогическое образование (с двумя профилями подготовки) (44.03.05) (Иностранный язык (английский) и Информационные технологии в образовании) \n",
      "Found Лавров Никита on МПГУ, Институт международного образования, Педагогическое образование (с двумя профилями подготовки) (44.03.05) (Иностранный язык (английский) и Экономика) \n",
      "Searching МГПУ\n",
      "Searching МФТИ\n",
      "Searching МИЭТ\n",
      "Searching РГГУ\n",
      "Searching РАНХиГС\n",
      "Searching МИСиС\n",
      "Found Лавров Никита on МИСиС, ИНМиН, Материаловедение и технологии материалов (22.03.01) \n",
      "Found Лавров Никита on МИСиС, ИНМиН, Электроника и наноэлектроника (11.03.04) \n",
      "Found Лавров Никита on МИСиС, ИНМиН, Наноматериалы (28.03.03) \n",
      "Searching МАИ\n",
      "Found Лавров Никита on МАИ, -, Прикладная математика и информатика (01.03.02) \n",
      "Found Лавров Никита on МАИ, -, Материаловедение и технологии материалов (22.03.01) \n",
      "Found Лавров Никита on МАИ, -, Электроэнергетика и электротехника (13.03.02) \n"
     ]
    }
   ],
   "source": [
    "import urllib.request\n",
    "from bs4 import BeautifulSoup\n",
    "\n",
    "admlist_adress ='http://admlist.ru'\n",
    "with urllib.request.urlopen(admlist_adress + '/index.html') as file:\n",
    "    text = file.read().decode('utf-8')\n",
    "\n",
    "soup = BeautifulSoup(text, 'lxml')\n",
    "VUZ_list = soup.findAll('tr')\n",
    "link = None\n",
    "for vuz in VUZ_list:\n",
    "    td_vuz = vuz.find('td')\n",
    "    if td_vuz is None:\n",
    "        continue\n",
    "    \n",
    "    a = td_vuz.find('a')\n",
    "    if a is not None:\n",
    "        link = a.get('href').split('/')[0]\n",
    "        \n",
    "        # Opening faculties page\n",
    "        vuz_name = a.text\n",
    "        print('Searching', vuz_name)\n",
    "        code += '<h1>' + vuz_name + '</h1>'\n",
    "        with urllib.request.urlopen(admlist_adress + '/' + link + '/index.html') as file:\n",
    "            text = file.read().decode('utf-8')\n",
    "\n",
    "        soup = BeautifulSoup(text, 'lxml')        \n",
    "        \n",
    "        fac_list = soup.findAll('tr')\n",
    "        for fac in fac_list:\n",
    "            td_fac = fac.find('td')\n",
    "            if td_fac is None:\n",
    "                continue\n",
    "\n",
    "            a = td_fac.find('a')\n",
    "            if a is not None:\n",
    "                link_to_list = admlist_adress + '/' + link + '/'+ a.get('href')\n",
    "\n",
    "                # Opening page with list\n",
    "                with urllib.request.urlopen(link_to_list) as file:\n",
    "                    text = file.read().decode('utf-8')\n",
    "\n",
    "                soup = BeautifulSoup(text, 'lxml')             \n",
    "                \n",
    "                if link in ['msu', 'mai'] and False: ## update\n",
    "                    if len(soup.findAll('table')) < 3:\n",
    "                        continue\n",
    "                    pupils_list = soup.findAll('table')[2].findAll('tr')\n",
    "                else:\n",
    "                    pupils_list = soup.findAll('tr')                \n",
    "                \n",
    "                if len(pupils_list) <= 3:\n",
    "                    continue\n",
    "                title = pupils_list[2]\n",
    "                pupils_list = pupils_list[3:]\n",
    "\n",
    "                fac_table_refrashed = False\n",
    "                for pupil in pupils_list:\n",
    "                    splits = pupil.findAll('td')[3].text.split()\n",
    "                    if len(splits) < 2:\n",
    "                        continue\n",
    "                    surname, name, *_ = splits\n",
    "                    name = surname + ' ' + name\n",
    "                    if name in friends:\n",
    "                        print('Found',name, 'on', soup.find('h2').text)\n",
    "                        if not fac_table_refrashed:                               \n",
    "                            code += '<h2>' + soup.find('h2').text + '</h2>'\n",
    "                            code += '<table><thead>'+ title.prettify() +'</thead><tbody>'\n",
    "                            fac_table_refrashed = True\n",
    "                        code += pupil.prettify()\n",
    "\n",
    "                if fac_table_refrashed:\n",
    "                    code += '</tbody></table><br><br>'\n",
    "    if link == 'mai':\n",
    "        break\n",
    "                    \n",
    "code += '</html>'"
   ]
  },
  {
   "cell_type": "code",
   "execution_count": 4,
   "metadata": {
    "scrolled": true
   },
   "outputs": [],
   "source": [
    "code = code.replace('..', 'http://admlist.ru')\n",
    "with open(output,'w') as file:\n",
    "    file.write(code)"
   ]
  },
  {
   "cell_type": "code",
   "execution_count": null,
   "metadata": {},
   "outputs": [],
   "source": []
  },
  {
   "cell_type": "code",
   "execution_count": null,
   "metadata": {},
   "outputs": [],
   "source": []
  }
 ],
 "metadata": {
  "kernelspec": {
   "display_name": "Python [default]",
   "language": "python",
   "name": "python3"
  },
  "language_info": {
   "codemirror_mode": {
    "name": "ipython",
    "version": 3
   },
   "file_extension": ".py",
   "mimetype": "text/x-python",
   "name": "python",
   "nbconvert_exporter": "python",
   "pygments_lexer": "ipython3",
   "version": "3.6.5"
  }
 },
 "nbformat": 4,
 "nbformat_minor": 2
}
